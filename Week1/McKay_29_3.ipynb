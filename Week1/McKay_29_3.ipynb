{
  "nbformat": 4,
  "nbformat_minor": 0,
  "metadata": {
    "colab": {
      "name": "McKay 29.3.ipynb",
      "provenance": []
    },
    "kernelspec": {
      "name": "python3",
      "display_name": "Python 3"
    },
    "language_info": {
      "name": "python"
    }
  },
  "cells": [
    {
      "cell_type": "code",
      "metadata": {
        "colab": {
          "base_uri": "https://localhost:8080/"
        },
        "id": "djsngA0yRQZN",
        "outputId": "972cd210-0aea-447f-c8f0-8c0cb5dabc62"
      },
      "source": [
        "from random import random\n",
        "import numpy as np\n",
        "\n",
        "T = 1000\n",
        "e = 1\n",
        "\n",
        "position = 0\n",
        "\n",
        "left = 0\n",
        "right = 0\n",
        "\n",
        "for _ in range(T):\n",
        "  coinflip_val = random()\n",
        "  if coinflip_val < .5:\n",
        "    right += 1\n",
        "    position = position + e\n",
        "  else:\n",
        "    left += 1\n",
        "    position = position - e\n",
        "\n",
        "print(\"left {}\".format(left))\n",
        "print(\"right {}\".format(right))\n",
        "\n",
        "print(\"position {}\".format(position))\n",
        "print(\"Position sqrt(t)*e {}\".format(np.sqrt(T)*e))"
      ],
      "execution_count": 6,
      "outputs": [
        {
          "output_type": "stream",
          "name": "stdout",
          "text": [
            "left 482\n",
            "right 518\n",
            "position 36\n",
            "Position sqrt(t)*e 31.622776601683793\n"
          ]
        }
      ]
    }
  ]
}