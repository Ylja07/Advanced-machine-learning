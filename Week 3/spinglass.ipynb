{
  "nbformat": 4,
  "nbformat_minor": 0,
  "metadata": {
    "colab": {
      "name": "spinglass.ipynb",
      "provenance": [],
      "collapsed_sections": []
    },
    "kernelspec": {
      "name": "python3",
      "display_name": "Python 3"
    },
    "language_info": {
      "name": "python"
    }
  },
  "cells": [
    {
      "cell_type": "code",
      "metadata": {
        "id": "0K6L4wICYzcy"
      },
      "source": [
        "import numpy as np\n",
        "import random\n",
        "import matplotlib.pyplot as plt\n",
        "import time\n",
        "import pandas as pd\n",
        "import scipy.stats as stats\n",
        "import scipy.sparse as sparse\n",
        "from tqdm import tqdm"
      ],
      "execution_count": 1,
      "outputs": []
    },
    {
      "cell_type": "code",
      "source": [
        "from google.colab import files\n",
        "uploaded = files.upload()"
      ],
      "metadata": {
        "colab": {
          "resources": {
            "http://localhost:8080/nbextensions/google.colab/files.js": {
              "data": "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",
              "ok": true,
              "headers": [
                [
                  "content-type",
                  "application/javascript"
                ]
              ],
              "status": 200,
              "status_text": ""
            }
          },
          "base_uri": "https://localhost:8080/",
          "height": 73
        },
        "id": "_MYXYZYTj1Z7",
        "outputId": "21d97201-d522-490b-8b6b-95bf24b03f67"
      },
      "execution_count": 5,
      "outputs": [
        {
          "output_type": "display_data",
          "data": {
            "text/html": [
              "\n",
              "     <input type=\"file\" id=\"files-981b5494-4727-4f2b-a50b-509a05178762\" name=\"files[]\" multiple disabled\n",
              "        style=\"border:none\" />\n",
              "     <output id=\"result-981b5494-4727-4f2b-a50b-509a05178762\">\n",
              "      Upload widget is only available when the cell has been executed in the\n",
              "      current browser session. Please rerun this cell to enable.\n",
              "      </output>\n",
              "      <script src=\"/nbextensions/google.colab/files.js\"></script> "
            ],
            "text/plain": [
              "<IPython.core.display.HTML object>"
            ]
          },
          "metadata": {}
        },
        {
          "output_type": "stream",
          "name": "stdout",
          "text": [
            "Saving w500 to w500\n"
          ]
        }
      ]
    },
    {
      "cell_type": "code",
      "metadata": {
        "id": "ftgSK_Ysg6tt"
      },
      "source": [
        "#Global variables\n",
        "n=500\n",
        "R = 1\n",
        "pz=0.5  #prob of element being set to zero\n",
        "\n",
        "#Function that generates testcases like makedata.m\n",
        "def generateInput():\n",
        "    rvs = stats.norm().rvs\n",
        "    X = sparse.random(n, n, density=pz, data_rvs=rvs)\n",
        "    upper_X = sparse.triu(X) \n",
        "    result = upper_X + upper_X.T - sparse.diags(X.diagonal()) - sparse.diags(X.diagonal())\n",
        "    result = result.toarray()\n",
        "    result = np.array(result) #Frustrated result\n",
        "    for i in range(n):\n",
        "      for j in range(n):\n",
        "        result[i,j] = (result[i,j]>0).astype('int') - (result[i,j]<0).astype('int')\n",
        "    ferro = np.abs(result) #Ferromagnetic result\n",
        "    return result, ferro\n",
        "\n",
        "#Function that calculates the energy of a system\n",
        "def calc_energy(x,w): \n",
        "  return -1*np.matmul(np.matmul(w,x),x.T)/2\n",
        "\n",
        "#Function that performs a flip\n",
        "def flipR(x,E):\n",
        "  result = np.copy(x)\n",
        "  y = random.randint(0,len(x)-1)\n",
        "\n",
        "  #Flipping\n",
        "  result[y]*=-1\n",
        "\n",
        "  #Calculating new energy\n",
        "  E2 = E-2*np.matmul(w[y],result)*result[y]\n",
        "\n",
        "  return result, E2"
      ],
      "execution_count": 2,
      "outputs": []
    },
    {
      "cell_type": "code",
      "metadata": {
        "id": "JuLpTx0EgCH8"
      },
      "source": [
        "#Initialize a suitable temperature by attempting 1000 flips and choosing the max energy difference as initial T\n",
        "def initT(x,w):\n",
        "  t_array = []\n",
        "  E = calc_energy(x,w)\n",
        "  T = 1000\n",
        "\n",
        "  #Run 1000 iterations to try\n",
        "  for i in range(1000):\n",
        "    x2, E2 = flipR(x,E)  #Perform flip\n",
        "    a = np.exp(-(E2-E)/T)\n",
        "\n",
        "    #Appending difference if accepted\n",
        "    if a > 1:\n",
        "        t_array.append(E2-E)\n",
        "    \n",
        "    elif random.random() < a:\n",
        "        t_array.append(E2-E)\n",
        "    \n",
        "  return np.max(t_array) #Return maximum of differences\n",
        "\n",
        "#Perform iterative improvement method\n",
        "def iterativeImprovementTest(w):\n",
        "  max_patience = 1000 #If the energy does not decrease 2000 tries in a row the iteration stops\n",
        "  patience = 0\n",
        "  x = np.random.choice([-1,1],n) \n",
        "  E = calc_energy(x,w)\n",
        "\n",
        "  while patience < max_patience:\n",
        "    x2, E2 = flipR(x,E) #Perform flip\n",
        "\n",
        "    #If energy smaller, make this new x\n",
        "    if E2 < E:\n",
        "      x = np.copy(x2)\n",
        "      E = E2\n",
        "      patience = 0\n",
        "    else:\n",
        "      patience += 1\n",
        "    \n",
        "  return E\n",
        "\n",
        "#Perform k restarts \n",
        "def iterativeImprovementRestarts(k,w):\n",
        "  t = time.time() #Take time\n",
        "  energies = []\n",
        "\n",
        "  #K restarts\n",
        "  for i in range(k):\n",
        "    energies.append(iterativeImprovementTest(w))\n",
        "\n",
        "  return np.min(energies), time.time()-t #Return smallest energy after k restarts, and time for one iteration\n",
        "\n",
        "#Run N times and take mean and std of N tries\n",
        "def runNIterative(N,k,w):\n",
        "  energies = []\n",
        "  times = []\n",
        "\n",
        "  #Run N times\n",
        "  for i in tqdm(range(N)):\n",
        "    e,t = iterativeImprovementRestarts(k,w)\n",
        "    energies.append(e) #Append energies\n",
        "    times.append(t) #Append times\n",
        "\n",
        "  return np.mean(energies), np.std(energies), np.mean(times)\n",
        "\n",
        "#Perform exponential schedule\n",
        "def expSchedule(f,L,w):\n",
        "  #Variables\n",
        "  t = time.time()\n",
        "  x = np.random.choice([-1,1],n)\n",
        "  E = calc_energy(x,w)\n",
        "  T = initT(x,w)\n",
        "  beta = 1/T \n",
        "  stdE = 2\n",
        "  mean_energies = []\n",
        "  std_energies = []\n",
        "\n",
        "  #While loop that runs until the std of E is 0 between loops\n",
        "  while stdE > 0:\n",
        "    energies = []\n",
        "\n",
        "    #Looping L times\n",
        "    for i in range(L):\n",
        "      x2, E2 = flipR(x,E) #Perform flip\n",
        "\n",
        "      a = np.exp(-(E2-E)/T) #Calculating a for MH\n",
        "\n",
        "      #MH acceptance\n",
        "      if a > 1:\n",
        "        x = np.copy(x2)\n",
        "        E = E2\n",
        "      elif random.random() < a:\n",
        "        x = np.copy(x2)\n",
        "        E = E2\n",
        "\n",
        "      energies.append(E)\n",
        "\n",
        "    #Storing values\n",
        "    stdE = np.std(energies)\n",
        "    \n",
        "    #Iterating exponential schedule\n",
        "    beta = f*beta\n",
        "    T = 1/beta\n",
        "     \n",
        "  return energies[-1], time.time()-t\n",
        "\n",
        "#Perform Aarts and Korst schedule\n",
        "def akSchedule(dbeta,L,w):\n",
        "  #Variables\n",
        "  t = time.time()\n",
        "  x = np.random.choice([-1,1],n)\n",
        "  E = calc_energy(x,w)\n",
        "  T = initT(x,w)\n",
        "  beta = 1/T \n",
        "  stdE = 2\n",
        "  mean_energies = []\n",
        "  std_energies = []\n",
        "  temperatures = []\n",
        "  counter = 0\n",
        "\n",
        "  #Looping until std = 0 between runs\n",
        "  while stdE > 0:\n",
        "    energies = []\n",
        "    counter += 1\n",
        "\n",
        "    #Looping L times\n",
        "    for i in range(L):\n",
        "      x2, E2 = flipR(x,E) #Perform flip\n",
        "      a = np.exp(-(E2-E)/T) #Calculating a for MH\n",
        "\n",
        "      #MH acceptance\n",
        "      if a > 1:\n",
        "        x = np.copy(x2)\n",
        "        E = E2\n",
        "      elif random.random() < a:\n",
        "        x = np.copy(x2)\n",
        "        E = E2\n",
        "\n",
        "      energies.append(E)\n",
        "    \n",
        "    #Storing values\n",
        "    mean_energies.append(np.mean(energies))\n",
        "    stdE = np.std(energies)\n",
        "    std_energies.append(stdE)\n",
        "    temperatures.append(beta)\n",
        "\n",
        "    #Iterating AK schedule\n",
        "    if stdE > 0:\n",
        "      beta = beta + dbeta/np.sqrt(stdE)\n",
        "      T = 1/beta\n",
        "\n",
        "  #Plotting to show for one cycle\n",
        "  #plt.plot(range(counter),mean_energies)\n",
        "  #plt.xlabel(\"k\")\n",
        "  #plt.ylabel(\"mean E\")  \n",
        "  #plt.ylim((-8000,0))\n",
        "  #plt.show()\n",
        "\n",
        "  #plt.plot(range(counter),std_energies)\n",
        "  #plt.xlabel(\"k\")\n",
        "  #plt.ylabel(\"std E\")\n",
        "  #plt.ylim((0,600))\n",
        "  #plt.show()\n",
        "\n",
        "  #plt.plot(range(counter),temperatures)\n",
        "  #plt.xlabel(\"k\")\n",
        "  #plt.ylabel(r'$ \\beta $')\n",
        "  #plt.ylim((0,0.5))\n",
        "  #plt.show()\n",
        "\n",
        "  #print(counter)\n",
        "\n",
        "  return energies[-1], time.time()-t\n",
        "\n",
        "#Run a schedule N times and get mean energy from N runs\n",
        "def runNAnnealing(N,fdbeta, L, w):\n",
        "  times = []\n",
        "  energies = []\n",
        "\n",
        "  for i in tqdm(range(N)):\n",
        "    #Change for different schedules\n",
        "    E, t = expSchedule(fdbeta,L,w)\n",
        "    #E, t = akSchedule(fdbeta,L,w)\n",
        "\n",
        "    times.append(t)\n",
        "    energies.append(E)\n",
        "\n",
        "  #Calculating means\n",
        "  mean_time = np.mean(times)\n",
        "  mean_energies = np.mean(energies)\n",
        "  std_energies = np.std(energies)\n",
        "\n",
        "  return mean_energies, std_energies, mean_time\n",
        "\n",
        "  \n"
      ],
      "execution_count": 24,
      "outputs": []
    },
    {
      "cell_type": "code",
      "source": [
        "#a, b = generateInput()\n",
        "#w = a\n",
        "df = pd.read_csv(\"w500\", header=None, delim_whitespace=True)\n",
        "w = df.to_numpy()\n",
        "N = 20\n",
        "#kvals = [20,100,200,500,1000,2000,4000]\n",
        "kvals = [4000]\n",
        "#kvals = range(1,26)\n",
        "#dbetas = [0.1,0.01,0.001]\n",
        "#dbetas = [0.001]\n",
        "#fs = [1.01, 1.001, 1.0002]\n",
        "fs = [1.0002]\n",
        "means = []\n",
        "stds = []\n",
        "times = []\n",
        "\n",
        "for f in fs:\n",
        "  #m, s, t = runNIterative(N,k,w)\n",
        "  m, s, t = runNAnnealing(N, f, 1000, w)\n",
        "  means.append(m)\n",
        "  stds.append(s)\n",
        "  times.append(t)\n",
        "\n",
        "print(means)\n",
        "print(stds)\n",
        "print(times)\n",
        "\n",
        "#Plotting for exercise 2a)\n",
        "#plt.errorbar(kvals,means,yerr=stds,fmt='o')\n",
        "#plt.title(\"Mean Energy over 20 runs\")\n",
        "#plt.xlabel(\"K\")\n",
        "#plt.ylabel(\"Mean Energy\")\n",
        "#plt.show()\n",
        "\n"
      ],
      "metadata": {
        "colab": {
          "base_uri": "https://localhost:8080/"
        },
        "id": "9b_nbKSJG56h",
        "outputId": "b4182f10-c4f7-4cca-8018-75ad9805d912"
      },
      "execution_count": 28,
      "outputs": [
        {
          "output_type": "stream",
          "name": "stderr",
          "text": [
            "100%|██████████| 20/20 [1:26:50<00:00, 260.52s/it]"
          ]
        },
        {
          "output_type": "stream",
          "name": "stdout",
          "text": [
            "[-6583.3]\n",
            "[28.20833210241258]\n",
            "[260.51436017751695]\n"
          ]
        },
        {
          "output_type": "stream",
          "name": "stderr",
          "text": [
            "\n"
          ]
        }
      ]
    }
  ]
}