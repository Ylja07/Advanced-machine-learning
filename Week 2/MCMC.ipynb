{
  "nbformat": 4,
  "nbformat_minor": 0,
  "metadata": {
    "colab": {
      "name": "MCMC.ipynb",
      "provenance": [],
      "collapsed_sections": []
    },
    "kernelspec": {
      "name": "python3",
      "display_name": "Python 3"
    },
    "language_info": {
      "name": "python"
    }
  },
  "cells": [
    {
      "cell_type": "code",
      "metadata": {
        "id": "YTdcVh4WMUK5"
      },
      "source": [
        "import numpy as np\n",
        "import random\n",
        "import matplotlib.pyplot as plt\n",
        "from numpy import random\n",
        "import seaborn as sns"
      ],
      "execution_count": null,
      "outputs": []
    },
    {
      "cell_type": "markdown",
      "metadata": {
        "id": "zSX34ldge6hj"
      },
      "source": [
        "# Initialization\n"
      ]
    },
    {
      "cell_type": "code",
      "metadata": {
        "id": "TuDVTrabfce1"
      },
      "source": [
        "# Was lui en had geen zin in een if of for\n",
        "def plot_dens3(x):\n",
        "  plt.hist(hist, color = ['b', 'r', 'y'], edgecolor = 'black',\n",
        "          bins = int(180/5))\n",
        "\n",
        "  sns.distplot(hist, hist=True, kde=False, \n",
        "              bins=int(180/5), color = 'blue',\n",
        "              hist_kws={'edgecolor':'black'})\n",
        "\n",
        "  plt.title('Histogram of density')\n",
        "  plt.xlabel('Binned values')\n",
        "  plt.ylabel('Amount')\n",
        "\n",
        "def plot_dens2(x):\n",
        "  plt.hist(hist, color = ['blue', 'red'], \n",
        "           bins = int(180/5))\n",
        "\n",
        "  # sns.distplot(hist, hist=True, kde=False, \n",
        "  #             bins=int(180/5), color = 'blue',\n",
        "  #             hist_kws={'edgecolor':'black'})\n",
        "\n",
        "  plt.title('Histogram of X and Y density')\n",
        "  plt.xlabel('Binned values of X and Y')\n",
        "  plt.ylabel('Amount')\n",
        "\n",
        "def plot_dens1(x):\n",
        "  plt.hist(hist, color = ['b'], edgecolor = 'black',\n",
        "          bins = int(180/5))\n",
        "\n",
        "  sns.distplot(hist, hist=True, kde=False, \n",
        "              bins=int(180/5), color = 'blue',\n",
        "              hist_kws={'edgecolor':'black'})\n",
        "\n",
        "  plt.title('Histogram of density')\n",
        "  plt.xlabel('Binned values')\n",
        "  plt.ylabel('Amount')"
      ],
      "execution_count": null,
      "outputs": []
    },
    {
      "cell_type": "code",
      "metadata": {
        "id": "JcYD8BgvM3zG"
      },
      "source": [
        "A = np.array([[250.25, -249.75],[ -249.75, 250.25]])\n",
        "\n",
        "def gaussian(mu = 0, sigma = 1):\n",
        "  return np.random.normal(mu, sigma, 2)\n",
        "\n",
        "# x' interperted as x transposed\n",
        "def p_dens(x):\n",
        "  E = 1/2 * np.dot(np.transpose(x),np.dot(A,x))\n",
        "  return np.exp(-E)\n",
        "\n",
        "def accept(a):\n",
        "  if np.isnan(a):\n",
        "    return 0\n",
        "  return np.random.binomial(1, min(a,1))"
      ],
      "execution_count": null,
      "outputs": []
    },
    {
      "cell_type": "markdown",
      "metadata": {
        "id": "W4v7gzCKhlF4"
      },
      "source": [
        "# Metropalis Hasting"
      ]
    },
    {
      "cell_type": "code",
      "metadata": {
        "id": "xP5gJU9YOIQX"
      },
      "source": [
        "def plot_scatter(X):\n",
        " # colors = np.random.rand(len(hist))\n",
        " # area = (30 * np.random.rand(len(hist)))**2  # 0 to 15 point radii\n",
        "\n",
        "  x = []\n",
        "  y = []\n",
        "\n",
        "  for i in X:\n",
        "    x.append(i[0])\n",
        "    y.append(i[1])\n",
        "\n",
        "  plt.scatter(x, y)\n",
        "  plt.show()\n",
        "\n",
        "def metropalis_hasting(steps, sigma, grid = False):\n",
        "  rejections = 0\n",
        "  x_hist = []\n",
        "  init_x = gaussian(sigma)\n",
        "  x = init_x\n",
        "  for i in range(steps):\n",
        "    x_new = gaussian(x, 0.1)\n",
        "    a = p_dens(x_new)/p_dens(x) \n",
        "    if accept(a) == 1:\n",
        "      x = x_new\n",
        "      x_hist.append(x)\n",
        "    else:\n",
        "      rejections += 1\n",
        "      x_hist.append(x)\n",
        "  if grid:\n",
        "    plot_scatter(x_hist)\n",
        "  return (rejections, np.array(x_hist))"
      ],
      "execution_count": null,
      "outputs": []
    },
    {
      "cell_type": "code",
      "metadata": {
        "colab": {
          "base_uri": "https://localhost:8080/",
          "height": 686
        },
        "id": "XizBG1SZYmux",
        "outputId": "10c02eb9-344e-4657-8e37-d9cbd755ae3d"
      },
      "source": [
        "rejections, hist = metropalis_hasting(10000, 0.1, True)\n",
        "print(\"Rejections: {}\".format(rejections))\n",
        "print(hist)\n",
        "\n",
        "plot_dens2(hist)"
      ],
      "execution_count": null,
      "outputs": [
        {
          "output_type": "display_data",
          "data": {
            "image/png": "[encoded data removed]",
            "text/plain": [
              "<Figure size 432x288 with 1 Axes>"
            ]
          },
          "metadata": {
            "needs_background": "light"
          }
        },
        {
          "output_type": "stream",
          "name": "stdout",
          "text": [
            "Rejections: 5387\n",
            "[[0.41249015 0.40596442]\n",
            " [0.41249015 0.40596442]\n",
            " [0.31347433 0.29078822]\n",
            " ...\n",
            " [1.34440108 1.33168547]\n",
            " [1.34440108 1.33168547]\n",
            " [1.44175458 1.44767951]]\n"
          ]
        },
        {
          "output_type": "display_data",
          "data": {
            "image/png": "[encoded data removed]",
            "text/plain": [
              "<Figure size 432x288 with 1 Axes>"
            ]
          },
          "metadata": {
            "needs_background": "light"
          }
        }
      ]
    },
    {
      "cell_type": "markdown",
      "metadata": {
        "id": "0PKEhvcHfP5W"
      },
      "source": [
        "# Hamilton Monte Carlo"
      ]
    },
    {
      "cell_type": "code",
      "metadata": {
        "id": "Ra-FjafmYtgY"
      },
      "source": [
        "def Energy(x):\n",
        "  return 1/2 * np.dot(np.transpose(x),np.dot(A,x))\n",
        "\n",
        "def gradientE(x):\n",
        "  g=np.array([x[0]*250.25-249.75*x[1],x[1]*250.25-249.75*x[0]])\n",
        "  return g\n",
        "\n",
        "def hamilton_monte_carlo(steps, tau, epsilon, sigmav, grid = False):\n",
        "  x = gaussian(sigma = sigmav)\n",
        "  x_hist = np.array([])\n",
        "  g = gradientE(x)\n",
        "  E = Energy(x)\n",
        "  rejections=0\n",
        "\n",
        "  for l in range(steps):\n",
        "    p = np.random.normal(0, 1, len(x))\n",
        "    H = np.dot(np.transpose(p), p) / 2 + Energy(x)\n",
        "    xnew = x\n",
        "    gnew = g\n",
        "\n",
        "    for s in range(tau):\n",
        "      p = p - epsilon * gnew /2\n",
        "      xnew = xnew + epsilon * p #!!!!!!!!!!!!!! += caused the error DO NOT USE\n",
        "      gnew = gradientE(xnew)\n",
        "      p = p - epsilon * gnew /2\n",
        "    \n",
        "    Enew = Energy(xnew)\n",
        "    Hnew = np.dot(np.transpose(p), p) /2 + Enew\n",
        "    dH = Hnew - H\n",
        "\n",
        "    accept = False\n",
        "    if dH < 0: \n",
        "      accept = True\n",
        "    elif np.random.uniform(0,1) < np.exp(-dH):\n",
        "      accept = True\n",
        "    else:\n",
        "      accept = False\n",
        "    if accept:\n",
        "      g = gnew\n",
        "      x = xnew\n",
        "      E = Enew\n",
        "    else:\n",
        "      rejections+=1\n",
        "\n",
        "    x_hist = np.append(x_hist, x)\n",
        "  if grid:\n",
        "    plot_scatter(np.array(np.split(x_hist, steps)))\n",
        "  return rejections, np.array(np.split(x_hist, steps))"
      ],
      "execution_count": null,
      "outputs": []
    },
    {
      "cell_type": "code",
      "metadata": {
        "id": "8rConBoKn7iA",
        "colab": {
          "base_uri": "https://localhost:8080/",
          "height": 561
        },
        "outputId": "f950a940-32a8-4d85-936b-b3149f84a69b"
      },
      "source": [
        "rejections, hist = hamilton_monte_carlo(10000,100,0.01,0.1, True)\n",
        "print(\"Rejections: {}\".format(rejections))\n",
        "# print(hist)\n",
        "plot_dens2(hist)"
      ],
      "execution_count": null,
      "outputs": [
        {
          "output_type": "display_data",
          "data": {
            "image/png": "[encoded data removed]",
            "text/plain": [
              "<Figure size 432x288 with 1 Axes>"
            ]
          },
          "metadata": {
            "needs_background": "light"
          }
        },
        {
          "output_type": "stream",
          "name": "stdout",
          "text": [
            "Rejections: 21\n"
          ]
        },
        {
          "output_type": "display_data",
          "data": {
            "image/png": "[encoded data removed]",
            "text/plain": [
              "<Figure size 432x288 with 1 Axes>"
            ]
          },
          "metadata": {
            "needs_background": "light"
          }
        }
      ]
    },
    {
      "cell_type": "code",
      "metadata": {
        "id": "RgfGY6Ey-H5L"
      },
      "source": [
        "def plot_metropalis_to_img(X, steps, sigma):\n",
        "  x = []\n",
        "  y = []\n",
        "  \n",
        "  for i in X:\n",
        "    x.append(i[0])\n",
        "    y.append(i[1])\n",
        "  plt.ioff()\n",
        "  plt.figure() \n",
        "  plt.title(\"Metropalis-Hasting steps: {}, sigma: {}\".format(steps, sigma))\n",
        "  plt.scatter(x, y)\n",
        "  plt.savefig('Images/MH/Metropalis_Hasting_steps_{}_sigma_{}.png'.format(steps, sigma))\n",
        "\n",
        "def plot_hamilton_to_img(X, steps, tau, epsilon, sigma):\n",
        "  x = []\n",
        "  y = []\n",
        "\n",
        "  for i in X:\n",
        "    x.append(i[0])\n",
        "    y.append(i[1])\n",
        "  plt.ioff()\n",
        "  plt.figure() \n",
        "  plt.title(\"Hamilton MC steps: {}, tau: {}, epsilon: {}, sigma: {}\".format(steps, tau, epsilon, sigma))\n",
        "  plt.scatter(x, y)\n",
        "  plt.savefig('Images/MC/Hamilton_MC_steps_{}_tau_{}_epsilon_{}_sigma_{}.png'.format(steps, tau, epsilon, sigma))"
      ],
      "execution_count": null,
      "outputs": []
    },
    {
      "cell_type": "code",
      "metadata": {
        "id": "QrJKXivh4pku",
        "colab": {
          "base_uri": "https://localhost:8080/"
        },
        "outputId": "6204afc8-b6a0-4cd4-da07-eac242a4a217"
      },
      "source": [
        "steps = [10000]\n",
        "sigma = [0.1, 0.5, 1]\n",
        "epsilon = [0.01, 0.05, 0.1, 0.5]\n",
        "tau = [10, 50, 100]\n",
        "\n",
        "dictMH = list( {} for i in range(len(steps)* len(sigma)) )\n",
        "MH_counter = 0\n",
        "for step in steps:\n",
        "  for s in sigma:\n",
        "    rejections, hist = metropalis_hasting(step, s)\n",
        "    dictMH[MH_counter][\"rejections\"] = rejections\n",
        "    dictMH[MH_counter][\"step\"] = step\n",
        "    dictMH[MH_counter][\"sigma\"] = s\n",
        "    dictMH[MH_counter][\"hist\"] = hist\n",
        "    dictMH[MH_counter][\"ratio\"] = rejections/step\n",
        "    MH_counter += 1\n",
        "\n",
        "    # plot_metropalis_to_img(hist, step, s)\n",
        "\n",
        "dictHMC = list({} for i in range(len(steps)* len(sigma) * len(epsilon) * len(tau)))\n",
        "HMC_counter = 0\n",
        "for step in steps:\n",
        "  for frogStep in tau:\n",
        "    for e in epsilon:\n",
        "      for s in sigma:\n",
        "        rejections, hist = hamilton_monte_carlo(step, frogStep, e, s)\n",
        "        dictHMC[HMC_counter][\"rejections\"] = rejections\n",
        "        dictHMC[HMC_counter][\"step\"] = step\n",
        "        dictHMC[HMC_counter][\"sigma\"] = s\n",
        "        dictHMC[HMC_counter][\"epsilon\"] = e\n",
        "        dictHMC[HMC_counter][\"tau\"] = frogStep\n",
        "        dictHMC[HMC_counter][\"hist\"] = hist\n",
        "        dictHMC[HMC_counter][\"ratio\"] = rejections/step\n",
        "\n",
        "        HMC_counter += 1\n",
        "        # plot_hamilton_to_img(hist, step, frogStep, e, s)"
      ],
      "execution_count": null,
      "outputs": [
        {
          "output_type": "stream",
          "name": "stderr",
          "text": [
            "/usr/local/lib/python3.7/dist-packages/ipykernel_launcher.py:22: RuntimeWarning: invalid value encountered in double_scalars\n",
            "/usr/local/lib/python3.7/dist-packages/ipykernel_launcher.py:22: RuntimeWarning: divide by zero encountered in double_scalars\n"
          ]
        }
      ]
    },
    {
      "cell_type": "code",
      "metadata": {
        "colab": {
          "base_uri": "https://localhost:8080/"
        },
        "id": "1KjVAGikMXlO",
        "outputId": "db2e3f4a-d26e-471a-cdfc-1c8d7e33a380"
      },
      "source": [
        "minMH = min(dictMH, key=lambda x:x['ratio'])\n",
        "maxMH = max(dictMH, key=lambda x:x['ratio'])\n",
        "print(minMH)\n",
        "for i in dictMH:  \n",
        "  print(i['rejections'])\n",
        "\n",
        "minHMC = min(dictHMC, key=lambda x:x['ratio'])\n",
        "maxHMC = max(dictHMC, key=lambda x:x['ratio'])\n",
        "print(minHMC)\n",
        "# print(maxHMC)\n",
        "print(minMH)\n",
        "for i in dictHMC:  \n",
        "  print(\"Rejections: {}, epsilon: {}, sigma: {}, tau: {}\".format(i['rejections'],i['epsilon'],i['sigma'],i['tau']))\n",
        "\n",
        "# For latex table\n",
        "for i in dictHMC:  \n",
        "  print(repr(\"{} & {} & {} & {} \\newline\".format(i['sigma'],i['epsilon'],i['tau'],i['rejections'])))\n",
        "\n"
      ],
      "execution_count": null,
      "outputs": [
        {
          "output_type": "stream",
          "name": "stdout",
          "text": [
            "{'rejections': 5342, 'step': 10000, 'sigma': 1, 'hist': array([[ 1.1804736 , -0.05277762],\n",
            "       [ 1.1804736 , -0.05277762],\n",
            "       [ 1.1804736 , -0.05277762],\n",
            "       ...,\n",
            "       [ 1.22359311,  1.12939037],\n",
            "       [ 1.22359311,  1.12939037],\n",
            "       [ 1.2052643 ,  1.15470842]]), 'ratio': 0.5342}\n",
            "5426\n",
            "5354\n",
            "5342\n",
            "{'rejections': 10, 'step': 10000, 'sigma': 0.5, 'epsilon': 0.01, 'tau': 100, 'hist': array([[-0.27473545,  0.39661109],\n",
            "       [ 0.13608467, -0.47517201],\n",
            "       [-0.61953335, -0.11329291],\n",
            "       ...,\n",
            "       [-0.43126346, -0.39488372],\n",
            "       [-0.58776697, -0.64180681],\n",
            "       [-0.88873921, -0.86923589]]), 'ratio': 0.001}\n",
            "{'rejections': 5342, 'step': 10000, 'sigma': 1, 'hist': array([[ 1.1804736 , -0.05277762],\n",
            "       [ 1.1804736 , -0.05277762],\n",
            "       [ 1.1804736 , -0.05277762],\n",
            "       ...,\n",
            "       [ 1.22359311,  1.12939037],\n",
            "       [ 1.22359311,  1.12939037],\n",
            "       [ 1.2052643 ,  1.15470842]]), 'ratio': 0.5342}\n",
            "Rejections: 35, epsilon: 0.01, sigma: 0.1, tau: 10\n",
            "Rejections: 21, epsilon: 0.01, sigma: 0.5, tau: 10\n",
            "Rejections: 31, epsilon: 0.01, sigma: 1, tau: 10\n",
            "Rejections: 714, epsilon: 0.05, sigma: 0.1, tau: 10\n",
            "Rejections: 754, epsilon: 0.05, sigma: 0.5, tau: 10\n",
            "Rejections: 780, epsilon: 0.05, sigma: 1, tau: 10\n",
            "Rejections: 10000, epsilon: 0.1, sigma: 0.1, tau: 10\n",
            "Rejections: 10000, epsilon: 0.1, sigma: 0.5, tau: 10\n",
            "Rejections: 10000, epsilon: 0.1, sigma: 1, tau: 10\n",
            "Rejections: 10000, epsilon: 0.5, sigma: 0.1, tau: 10\n",
            "Rejections: 10000, epsilon: 0.5, sigma: 0.5, tau: 10\n",
            "Rejections: 10000, epsilon: 0.5, sigma: 1, tau: 10\n",
            "Rejections: 45, epsilon: 0.01, sigma: 0.1, tau: 50\n",
            "Rejections: 37, epsilon: 0.01, sigma: 0.5, tau: 50\n",
            "Rejections: 33, epsilon: 0.01, sigma: 1, tau: 50\n",
            "Rejections: 454, epsilon: 0.05, sigma: 0.1, tau: 50\n",
            "Rejections: 422, epsilon: 0.05, sigma: 0.5, tau: 50\n",
            "Rejections: 447, epsilon: 0.05, sigma: 1, tau: 50\n",
            "Rejections: 10000, epsilon: 0.1, sigma: 0.1, tau: 50\n",
            "Rejections: 10000, epsilon: 0.1, sigma: 0.5, tau: 50\n",
            "Rejections: 10000, epsilon: 0.1, sigma: 1, tau: 50\n",
            "Rejections: 10000, epsilon: 0.5, sigma: 0.1, tau: 50\n",
            "Rejections: 10000, epsilon: 0.5, sigma: 0.5, tau: 50\n",
            "Rejections: 10000, epsilon: 0.5, sigma: 1, tau: 50\n",
            "Rejections: 18, epsilon: 0.01, sigma: 0.1, tau: 100\n",
            "Rejections: 10, epsilon: 0.01, sigma: 0.5, tau: 100\n",
            "Rejections: 12, epsilon: 0.01, sigma: 1, tau: 100\n",
            "Rejections: 833, epsilon: 0.05, sigma: 0.1, tau: 100\n",
            "Rejections: 810, epsilon: 0.05, sigma: 0.5, tau: 100\n",
            "Rejections: 774, epsilon: 0.05, sigma: 1, tau: 100\n",
            "Rejections: 10000, epsilon: 0.1, sigma: 0.1, tau: 100\n",
            "Rejections: 10000, epsilon: 0.1, sigma: 0.5, tau: 100\n",
            "Rejections: 10000, epsilon: 0.1, sigma: 1, tau: 100\n",
            "Rejections: 10000, epsilon: 0.5, sigma: 0.1, tau: 100\n",
            "Rejections: 10000, epsilon: 0.5, sigma: 0.5, tau: 100\n",
            "Rejections: 10000, epsilon: 0.5, sigma: 1, tau: 100\n",
            "'0.1 & 0.01 & 10 & 35 \\newline'\n",
            "'0.5 & 0.01 & 10 & 21 \\newline'\n",
            "'1 & 0.01 & 10 & 31 \\newline'\n",
            "'0.1 & 0.05 & 10 & 714 \\newline'\n",
            "'0.5 & 0.05 & 10 & 754 \\newline'\n",
            "'1 & 0.05 & 10 & 780 \\newline'\n",
            "'0.1 & 0.1 & 10 & 10000 \\newline'\n",
            "'0.5 & 0.1 & 10 & 10000 \\newline'\n",
            "'1 & 0.1 & 10 & 10000 \\newline'\n",
            "'0.1 & 0.5 & 10 & 10000 \\newline'\n",
            "'0.5 & 0.5 & 10 & 10000 \\newline'\n",
            "'1 & 0.5 & 10 & 10000 \\newline'\n",
            "'0.1 & 0.01 & 50 & 45 \\newline'\n",
            "'0.5 & 0.01 & 50 & 37 \\newline'\n",
            "'1 & 0.01 & 50 & 33 \\newline'\n",
            "'0.1 & 0.05 & 50 & 454 \\newline'\n",
            "'0.5 & 0.05 & 50 & 422 \\newline'\n",
            "'1 & 0.05 & 50 & 447 \\newline'\n",
            "'0.1 & 0.1 & 50 & 10000 \\newline'\n",
            "'0.5 & 0.1 & 50 & 10000 \\newline'\n",
            "'1 & 0.1 & 50 & 10000 \\newline'\n",
            "'0.1 & 0.5 & 50 & 10000 \\newline'\n",
            "'0.5 & 0.5 & 50 & 10000 \\newline'\n",
            "'1 & 0.5 & 50 & 10000 \\newline'\n",
            "'0.1 & 0.01 & 100 & 18 \\newline'\n",
            "'0.5 & 0.01 & 100 & 10 \\newline'\n",
            "'1 & 0.01 & 100 & 12 \\newline'\n",
            "'0.1 & 0.05 & 100 & 833 \\newline'\n",
            "'0.5 & 0.05 & 100 & 810 \\newline'\n",
            "'1 & 0.05 & 100 & 774 \\newline'\n",
            "'0.1 & 0.1 & 100 & 10000 \\newline'\n",
            "'0.5 & 0.1 & 100 & 10000 \\newline'\n",
            "'1 & 0.1 & 100 & 10000 \\newline'\n",
            "'0.1 & 0.5 & 100 & 10000 \\newline'\n",
            "'0.5 & 0.5 & 100 & 10000 \\newline'\n",
            "'1 & 0.5 & 100 & 10000 \\newline'\n"
          ]
        }
      ]
    },
    {
      "cell_type": "code",
      "metadata": {
        "id": "-Zz2HulfX6yH"
      },
      "source": [
        "rejections_ep = np.array([])\n",
        "epsilon_test = np.linspace(0.01, 0.1, num=50)\n",
        "for e in epsilon_test:\n",
        "  rejections, hist = hamilton_monte_carlo(1000, 50, e, 0.1)\n",
        "  rejections_ep = np.append(rejections_ep, rejections)"
      ],
      "execution_count": null,
      "outputs": []
    },
    {
      "cell_type": "code",
      "source": [
        "rejections_sigma = np.array([])\n",
        "sigma_test = np.linspace(0.1, 20, num=50)\n",
        "for e in sigma_test:\n",
        "  rejections, hist = hamilton_monte_carlo(1000, 50, 0.01, e)\n",
        "  rejections_sigma = np.append(rejections_sigma, rejections)"
      ],
      "metadata": {
        "id": "VivTy5lqxZ9E"
      },
      "execution_count": null,
      "outputs": []
    },
    {
      "cell_type": "code",
      "source": [
        "rejections_tau = np.array([])\n",
        "tau_test = np.linspace(0, 10000, num=10)\n",
        "for e in tau_test:\n",
        "  rejections, hist = hamilton_monte_carlo(1000, int(e), 0.01, 0.1)\n",
        "  rejections_tau = np.append(rejections_tau, rejections)"
      ],
      "metadata": {
        "id": "IblfCEZwxaES"
      },
      "execution_count": null,
      "outputs": []
    },
    {
      "cell_type": "code",
      "metadata": {
        "colab": {
          "base_uri": "https://localhost:8080/",
          "height": 803
        },
        "id": "X-PhiwZz5t-1",
        "outputId": "f754e9c4-78a3-4926-f81e-05995b27f757"
      },
      "source": [
        "plt.plot(epsilon_test, rejections_ep)\n",
        "plt.xlabel('Value of epsilon')\n",
        "plt.ylabel('Amount of Rejection')\n",
        "plt.show()\n",
        "\n",
        "plt.plot(sigma_test, rejections_sigma)\n",
        "plt.xlabel('Value of sigma')\n",
        "plt.ylabel('Amount of Rejection')\n",
        "plt.show()\n",
        "\n",
        "plt.plot(tau_test, rejections_tau)\n",
        "plt.xlabel('Value of tau')\n",
        "plt.ylabel('Amount of Rejection')\n",
        "plt.show()\n"
      ],
      "execution_count": null,
      "outputs": [
        {
          "output_type": "display_data",
          "data": {
            "image/png": "[encoded data removed]",
            "text/plain": [
              "<Figure size 432x288 with 1 Axes>"
            ]
          },
          "metadata": {
            "needs_background": "light"
          }
        },
        {
          "output_type": "display_data",
          "data": {
            "image/png": "[encoded data removed]",
            "text/plain": [
              "<Figure size 432x288 with 1 Axes>"
            ]
          },
          "metadata": {
            "needs_background": "light"
          }
        },
        {
          "output_type": "display_data",
          "data": {
            "image/png": "[encoded data removed]",
            "text/plain": [
              "<Figure size 432x288 with 1 Axes>"
            ]
          },
          "metadata": {
            "needs_background": "light"
          }
        }
      ]
    },
    {
      "cell_type": "code",
      "source": [
        ""
      ],
      "metadata": {
        "id": "GZ2WRQcMyqly"
      },
      "execution_count": null,
      "outputs": []
    }
  ]
}