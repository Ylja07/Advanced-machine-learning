{
  "nbformat": 4,
  "nbformat_minor": 0,
  "metadata": {
    "colab": {
      "name": "MCMC.ipynb",
      "provenance": [],
      "collapsed_sections": []
    },
    "kernelspec": {
      "name": "python3",
      "display_name": "Python 3"
    },
    "language_info": {
      "name": "python"
    }
  },
  "cells": [
    {
      "cell_type": "code",
      "metadata": {
        "id": "YTdcVh4WMUK5"
      },
      "source": [
        "import numpy as np\n",
        "import random\n",
        "import matplotlib.pyplot as plt\n",
        "from numpy import random"
      ],
      "execution_count": 77,
      "outputs": []
    },
    {
      "cell_type": "code",
      "metadata": {
        "id": "JcYD8BgvM3zG"
      },
      "source": [
        "A = np.array([[250.25, -249.75],[ -249.75, 250.25]])\n",
        "\n",
        "def gaussian(mu = 0, sigma = 1):\n",
        "  return np.random.normal(mu, sigma, 2)\n",
        "\n",
        "# x' interperted as x transposed\n",
        "def p_dens(x):\n",
        "  E = 1/2 * np.dot(np.transpose(x),np.dot(A,x))\n",
        "  return np.exp(-E)\n",
        "\n",
        "def accept(a):\n",
        "  if np.isnan(a):\n",
        "    return 0\n",
        "  return np.random.binomial(1, min(a,1))"
      ],
      "execution_count": 78,
      "outputs": []
    },
    {
      "cell_type": "code",
      "metadata": {
        "id": "xP5gJU9YOIQX"
      },
      "source": [
        "def plot_scatter(X):\n",
        "  colors = np.random.rand(len(hist))\n",
        "  area = (30 * np.random.rand(len(hist)))**2  # 0 to 15 point radii\n",
        "\n",
        "  x = []\n",
        "  y = []\n",
        "\n",
        "  for i in X:\n",
        "    x.append(i[0])\n",
        "    y.append(i[1])\n",
        "\n",
        "  plt.scatter(x, y)\n",
        "  plt.show()\n",
        "\n",
        "def metropalis_hasting(steps = 10000):\n",
        "  rejections = 0\n",
        "  x_hist = []\n",
        "  init_x = gaussian(sigma = 0.1)\n",
        "  x = init_x\n",
        "  for i in range(steps):\n",
        "    x_new = gaussian(x, 0.1)\n",
        "    a = p_dens(x_new)/p_dens(x) \n",
        "    if accept(a) == 1:\n",
        "      x = x_new\n",
        "      x_hist.append(x)\n",
        "    else:\n",
        "      rejections += 1\n",
        "      x_hist.append(x)\n",
        "\n",
        "  plot_scatter(x_hist)\n",
        "  return (rejections, np.array(x_hist))"
      ],
      "execution_count": 79,
      "outputs": []
    },
    {
      "cell_type": "code",
      "metadata": {
        "colab": {
          "base_uri": "https://localhost:8080/",
          "height": 269
        },
        "id": "XizBG1SZYmux",
        "outputId": "b801f1cf-fc39-4f04-9a4f-f805dcbcac33"
      },
      "source": [
        "rejections, hist = metropalis_hasting()"
      ],
      "execution_count": 80,
      "outputs": [
        {
          "output_type": "display_data",
          "data": {
            "image/png": "[encoded data removed]",
            "text/plain": [
              "<Figure size 432x288 with 1 Axes>"
            ]
          },
          "metadata": {
            "needs_background": "light"
          }
        }
      ]
    },
    {
      "cell_type": "code",
      "metadata": {
        "id": "Ra-FjafmYtgY"
      },
      "source": [
        "def Energy(x):\n",
        "  return 1/2 * np.dot(np.transpose(x),np.dot(A,x))\n",
        "\n",
        "def gradientE(x):\n",
        "  g=np.array([x[0]*250.25-249.75*x[1],x[1]*250.25-249.75*x[0]])\n",
        "  print(g)\n",
        "  return np.gradient(x)\n",
        "  return g\n",
        "\n",
        "def hamilton_monte_carlo(steps = 100, tau = 2, epsilon = 0.1):\n",
        "  x = gaussian(sigma = 0.1)\n",
        "  x_hist = np.array([])\n",
        "  g = np.gradient(x)\n",
        "  # g = gradientE(x)\n",
        "  E = Energy(x)\n",
        "  rejections=0\n",
        "\n",
        "  for l in range(steps):\n",
        "    p = np.random.normal(0, 1, len(x))\n",
        "    H = np.dot(np.transpose(p), p) / 2 + Energy(x)\n",
        "    xnew = x\n",
        "    gnew = g\n",
        "\n",
        "    for s in range(tau):\n",
        "      p = p - epsilon * gnew /2\n",
        "      xnew += epsilon * p\n",
        "      gnew = np.gradient(xnew)\n",
        "      # gnew = gradientE(xnew)\n",
        "      p = p - epsilon * gnew /2\n",
        "    \n",
        "    Enew = Energy(xnew)\n",
        "    Hnew = np.dot(np.transpose(p), p) /2 + Enew\n",
        "    dH = Hnew - H\n",
        "\n",
        "    accept = False\n",
        "\n",
        "    if dH < 0: \n",
        "      accept = True\n",
        "    elif np.random.uniform(0,1) < np.exp(-dH):\n",
        "      accept = True\n",
        "    else:\n",
        "      accept = False\n",
        "\n",
        "    if accept:\n",
        "      g = gnew\n",
        "      x = xnew\n",
        "      E = Enew\n",
        "    else:\n",
        "      rejections+=1\n",
        "    x_hist = np.append(x_hist, xnew)\n",
        "  return rejections, np.array(np.split(x_hist, steps))"
      ],
      "execution_count": 83,
      "outputs": []
    },
    {
      "cell_type": "code",
      "metadata": {
        "id": "8rConBoKn7iA",
        "colab": {
          "base_uri": "https://localhost:8080/"
        },
        "outputId": "b6b50e23-5d41-4a1e-e4f9-7e4eedb49424"
      },
      "source": [
        "rejections, hist = hamilton_monte_carlo()\n",
        "print(rejections)\n",
        "print(hist)"
      ],
      "execution_count": 84,
      "outputs": [
        {
          "output_type": "stream",
          "name": "stdout",
          "text": [
            "46\n",
            "[[ 4.96741599e-02  2.94846110e-02]\n",
            " [ 7.05703088e-02  1.72902186e-01]\n",
            " [ 7.63313153e-04  3.34785783e-01]\n",
            " [ 3.22378660e-02 -1.03199193e-01]\n",
            " [ 1.48949245e-02 -4.18337816e-02]\n",
            " [ 8.48870441e-02 -4.52267528e-02]\n",
            " [ 3.26850882e-01  5.06065309e-06]\n",
            " [ 4.08714098e-01  1.65085356e-01]\n",
            " [ 4.75673820e-01  2.88138315e-01]\n",
            " [ 4.13719439e-01  9.01946641e-01]\n",
            " [ 7.49314299e-01  5.75009395e-01]\n",
            " [ 6.58064975e-01  5.35922597e-01]\n",
            " [ 7.92822849e-01  2.98241637e-01]\n",
            " [ 8.65309484e-01  5.14050628e-01]\n",
            " [ 6.33083111e-01  6.11161880e-01]\n",
            " [ 2.11382579e-01  4.23411455e-01]\n",
            " [ 7.11376065e-02  6.55621073e-01]\n",
            " [ 1.77884270e-01  8.14510290e-01]\n",
            " [ 1.87483618e-01  8.28225620e-01]\n",
            " [-7.38151920e-02  8.16183659e-01]\n",
            " [-1.07928350e-02  8.41548904e-01]\n",
            " [ 3.25226128e-01  8.18496322e-01]\n",
            " [ 6.42730302e-01  1.06184913e+00]\n",
            " [ 6.26519607e-01  1.31122561e+00]\n",
            " [ 4.53241647e-01  1.12667595e+00]\n",
            " [ 7.08306590e-02  1.08031443e+00]\n",
            " [ 3.64998792e-01  7.05919917e-01]\n",
            " [ 2.58789846e-01  9.22249146e-01]\n",
            " [ 3.71490711e-01  8.96217677e-01]\n",
            " [ 3.65524350e-01  6.63943169e-01]\n",
            " [ 1.43171231e-01  8.63422088e-01]\n",
            " [ 7.74818707e-02  7.80956922e-01]\n",
            " [-3.77482358e-02  8.71914766e-01]\n",
            " [-5.55555192e-03  9.25718840e-01]\n",
            " [-5.08362695e-01  8.85763800e-01]\n",
            " [-8.11745971e-01  8.97442330e-01]\n",
            " [-1.03589685e+00  6.82825822e-01]\n",
            " [-8.36086754e-01  6.68275820e-02]\n",
            " [-8.08137712e-01 -3.18887718e-01]\n",
            " [-9.93806703e-01 -4.17873201e-01]\n",
            " [-1.08518042e+00 -3.99633161e-01]\n",
            " [-9.15109532e-01 -4.76152806e-01]\n",
            " [-9.05075090e-01 -6.97973585e-01]\n",
            " [-8.97256413e-01 -8.16474668e-01]\n",
            " [-9.19234432e-01 -7.67834391e-01]\n",
            " [-9.51167790e-01 -9.69003542e-01]\n",
            " [-7.97801337e-01 -8.00800443e-01]\n",
            " [-9.02717860e-01 -3.26651569e-01]\n",
            " [-1.01928179e+00 -1.29711701e-01]\n",
            " [-8.89940943e-01  1.46578997e-01]\n",
            " [-9.82676767e-01 -5.95843690e-02]\n",
            " [-1.12312056e+00  3.94165729e-02]\n",
            " [-6.94807103e-01  1.15116402e-03]\n",
            " [-7.11436701e-01  2.24054883e-02]\n",
            " [-7.53824790e-01  2.55657397e-01]\n",
            " [-5.70735510e-01  1.60582236e-01]\n",
            " [-5.68570684e-01  2.81959055e-01]\n",
            " [-5.30299797e-01 -1.03544381e-01]\n",
            " [-4.23664519e-01 -2.66226449e-01]\n",
            " [-5.81729452e-01 -4.67956297e-01]\n",
            " [-4.40056385e-01 -9.07169018e-01]\n",
            " [-6.31338583e-01 -4.16162579e-01]\n",
            " [-8.83062514e-01 -3.81212589e-01]\n",
            " [-7.71352067e-01 -5.32039610e-01]\n",
            " [-9.32963836e-01 -6.89233726e-01]\n",
            " [-7.64485018e-01 -6.81777819e-01]\n",
            " [-7.78080920e-01 -5.53119048e-01]\n",
            " [-8.74266031e-01 -5.28264862e-01]\n",
            " [-9.35161237e-01 -1.77424957e-01]\n",
            " [-1.09543520e+00 -1.00865824e-01]\n",
            " [-1.13838126e+00 -8.61014420e-02]\n",
            " [-1.29183024e+00 -1.27539633e-01]\n",
            " [-9.50632249e-01 -2.48256449e-02]\n",
            " [-9.12726183e-01 -1.98187610e-01]\n",
            " [-7.53788788e-01 -6.90775534e-01]\n",
            " [-7.95533792e-01 -7.91596151e-01]\n",
            " [-7.73733028e-01 -7.57819997e-01]\n",
            " [-9.01947574e-01 -3.10743367e-01]\n",
            " [-8.91283080e-01 -2.65479654e-01]\n",
            " [-1.03103008e+00  7.12736502e-03]\n",
            " [-9.57947035e-01  7.27735819e-02]\n",
            " [-8.78567405e-01 -2.84422321e-01]\n",
            " [-8.05414182e-01 -3.14753036e-01]\n",
            " [-1.05128598e+00 -3.06912992e-01]\n",
            " [-1.15837084e+00  5.77382079e-02]\n",
            " [-1.11202978e+00  3.33156103e-02]\n",
            " [-9.00249252e-01 -8.01742758e-02]\n",
            " [-5.62851389e-01 -1.04550451e-01]\n",
            " [-4.38766011e-01 -8.53537481e-02]\n",
            " [-2.24912484e-01 -1.69993057e-01]\n",
            " [-4.57967871e-02 -4.09543486e-01]\n",
            " [ 8.93183036e-02 -3.90086733e-01]\n",
            " [ 3.07514648e-01 -5.18815085e-01]\n",
            " [ 1.40442222e-01 -3.98490262e-01]\n",
            " [-5.16401496e-02 -1.02279886e-01]\n",
            " [-2.19067094e-01 -3.67844069e-01]\n",
            " [-2.67377464e-01 -4.67341993e-01]\n",
            " [-3.41154481e-01 -4.53913831e-01]\n",
            " [-3.16146210e-01 -3.80559604e-01]\n",
            " [-2.93513985e-01 -3.98915266e-01]]\n"
          ]
        }
      ]
    },
    {
      "cell_type": "code",
      "metadata": {
        "id": "1gxi-Fby1_fM"
      },
      "source": [
        ""
      ],
      "execution_count": null,
      "outputs": []
    }
  ]
}