{
  "nbformat": 4,
  "nbformat_minor": 0,
  "metadata": {
    "colab": {
      "name": "MCMC.ipynb",
      "provenance": [],
      "collapsed_sections": []
    },
    "kernelspec": {
      "name": "python3",
      "display_name": "Python 3"
    },
    "language_info": {
      "name": "python"
    }
  },
  "cells": [
    {
      "cell_type": "code",
      "metadata": {
        "id": "YTdcVh4WMUK5"
      },
      "source": [
        "import numpy as np\n",
        "import random\n",
        "import matplotlib.pyplot as plt\n",
        "from numpy import random"
      ],
      "execution_count": null,
      "outputs": []
    },
    {
      "cell_type": "code",
      "metadata": {
        "id": "6MUubNb9rffv"
      },
      "source": [
        "#for pereptron learning\n",
        "#sigmoid function\n",
        "def sigmoid(x):\n",
        "  return 1/(1+np.exp(-x))\n",
        "\n",
        "\n",
        "alpha = 0.01\n",
        "xin = []\n",
        "with open('x.ext') as my_file:\n",
        "    for line in my_file:\n",
        "        xin.append(line.split())\n",
        "del xin[-2:]\n",
        "# xin.pop()\n",
        "# xin.pop()\n",
        "print(xin)\n",
        "xin = np.array(xin)\n",
        "print(xin)\n",
        "\n",
        "\n",
        "tin = []\n",
        "with open('t.ext') as my_file:\n",
        "    for line in my_file:\n",
        "      tin.append((line.split()))\n",
        "          \n",
        "\n",
        "    \n",
        "\n",
        "del tin[-1:]\n",
        "\n",
        "print(tin)\n",
        "tin = np.array(tin)\n",
        "tin=tin.astype(float)\n",
        "xin=xin.astype(float)\n",
        "\n",
        "print(np.dot(xin.T,tin))\n",
        "\n",
        "\n",
        "#p_densPerceptron\n",
        "def p_dens(w,y):\n",
        "  E = objectivePerceptron(w,y)\n",
        "  return np.exp(-E)\n",
        "\n",
        "\n",
        "def ylearnget(w):\n",
        "   a=np.dot(xin,w)\n",
        "   return sigmoid(a)\n",
        "\n",
        "# gradient and objective for perceptron learning (note )\n",
        "def gradientPerceptron(w,y):\n",
        "  a=np.dot(xin,w) # w is the input , x is from x.ext (we compute the probability of the parameters w)\n",
        "  y=sigmoid(a) #sigmoid function (outpuds)\n",
        "  e=tin-y # error between given output patterns t (t.ext) and y\n",
        "  g=-x.T*e #gradient\n",
        "  gM = alpha*w+g  #learning rule w+= alpha (learning rate) * gradient\n",
        "  return gM\n",
        "\n",
        "\n",
        "def objectivePerceptron(w,y): #objective function\n",
        "  G= - (tin.T * np.log(y)+(1-tin.T)*np.log(1-y)) #y was computed in gradientPerceptron , t from t.ext\n",
        "  EW= np.dot(w.T,w) / 2 #total of w^2\n",
        "  M= G + alpha * EW  #value of objective funcition (measure of error)\n",
        "  return M"
      ],
      "execution_count": null,
      "outputs": []
    },
    {
      "cell_type": "code",
      "metadata": {
        "id": "XUIX1G8CroCN"
      },
      "source": [
        "#changed version for perceptron learning!!!!!!!!!!!\n",
        "def plot_scatter(X):\n",
        " # colors = np.random.rand(len(hist))\n",
        " # area = (30 * np.random.rand(len(hist)))**2  # 0 to 15 point radii\n",
        "\n",
        "  x = []\n",
        "  y = []\n",
        "\n",
        "  for i in X:\n",
        "    x.append(i[0])\n",
        "    y.append(i[1])\n",
        "\n",
        "  plt.scatter(x, y)\n",
        "  plt.show()\n",
        "\n",
        "def metropalis_hasting(steps, sigma):\n",
        "  rejections = 0\n",
        "  x_hist = []\n",
        "  init_x = np.random.normal(0,sigma,3)\n",
        "  x = init_x\n",
        "  for i in range(steps):\n",
        "    x_new = np.random.normal(x,0.1,3)\n",
        "    ylearn=ylearnget(x_new) #added for perceptron\n",
        "    a = p_dens(x_new,ylearn)/p_dens(x,ylearn) \n",
        "    a=a[0][0]#???\n",
        "    if accept(a) == 1:\n",
        "      x = x_new\n",
        "      x_hist.append(x)\n",
        "    else:\n",
        "      rejections += 1\n",
        "      x_hist.append(x)\n",
        "\n",
        "  # plot_scatter(x_hist)\n",
        "  return (rejections, np.array(x_hist))"
      ],
      "execution_count": null,
      "outputs": []
    },
    {
      "cell_type": "code",
      "metadata": {
        "id": "JcYD8BgvM3zG"
      },
      "source": [
        "A = np.array([[250.25, -249.75],[ -249.75, 250.25]])\n",
        "\n",
        "def gaussian(mu = 0, sigma = 1):\n",
        "  return np.random.normal(mu, sigma, 2)\n",
        "\n",
        "# x' interperted as x transposed\n",
        "def p_dens(x):\n",
        "  E = 1/2 * np.dot(np.transpose(x),np.dot(A,x))\n",
        "  return np.exp(-E)\n",
        "\n",
        "def accept(a):\n",
        "  if np.isnan(a):\n",
        "    return 0\n",
        "  return np.random.binomial(1, min(a,1))"
      ],
      "execution_count": null,
      "outputs": []
    },
    {
      "cell_type": "code",
      "metadata": {
        "id": "xP5gJU9YOIQX"
      },
      "source": [
        "def plot_scatter(X):\n",
        " # colors = np.random.rand(len(hist))\n",
        " # area = (30 * np.random.rand(len(hist)))**2  # 0 to 15 point radii\n",
        "\n",
        "  x = []\n",
        "  y = []\n",
        "\n",
        "  for i in X:\n",
        "    x.append(i[0])\n",
        "    y.append(i[1])\n",
        "\n",
        "  plt.scatter(x, y)\n",
        "  plt.show()\n",
        "\n",
        "def metropalis_hasting(steps, sigma):\n",
        "  rejections = 0\n",
        "  x_hist = []\n",
        "  init_x = gaussian(sigma)\n",
        "  x = init_x\n",
        "  for i in range(steps):\n",
        "    x_new = gaussian(x, 0.1)\n",
        "    a = p_dens(x_new)/p_dens(x) \n",
        "    if accept(a) == 1:\n",
        "      x = x_new\n",
        "      x_hist.append(x)\n",
        "    else:\n",
        "      rejections += 1\n",
        "      x_hist.append(x)\n",
        "\n",
        "  # plot_scatter(x_hist)\n",
        "  return (rejections, np.array(x_hist))"
      ],
      "execution_count": null,
      "outputs": []
    },
    {
      "cell_type": "code",
      "metadata": {
        "colab": {
          "base_uri": "https://localhost:8080/",
          "height": 408
        },
        "id": "XizBG1SZYmux",
        "outputId": "6fe77be5-defc-4e5a-e4f3-7f7a33c2758a"
      },
      "source": [
        "rejections, hist = metropalis_hasting(10000, 0.1)\n",
        "print(rejections)\n",
        "print(hist)"
      ],
      "execution_count": null,
      "outputs": [
        {
          "output_type": "display_data",
          "data": {
            "image/png": "[encoded data removed]",
            "text/plain": [
              "<Figure size 432x288 with 1 Axes>"
            ]
          },
          "metadata": {
            "needs_background": "light"
          }
        },
        {
          "output_type": "stream",
          "name": "stdout",
          "text": [
            "5431\n",
            "[[-2.04869717e+00 -3.44854168e-04]\n",
            " [-2.04869717e+00 -3.44854168e-04]\n",
            " [-2.04869717e+00 -3.44854168e-04]\n",
            " ...\n",
            " [-4.88330084e-01 -5.37213114e-01]\n",
            " [-5.74528998e-01 -5.16683179e-01]\n",
            " [-5.74528998e-01 -5.16683179e-01]]\n"
          ]
        }
      ]
    },
    {
      "cell_type": "code",
      "metadata": {
        "id": "Ra-FjafmYtgY"
      },
      "source": [
        "def Energy(x):\n",
        "  return 1/2 * np.dot(np.transpose(x),np.dot(A,x))\n",
        "\n",
        "def gradientE(x):\n",
        "  g=np.array([x[0]*250.25-249.75*x[1],x[1]*250.25-249.75*x[0]])\n",
        "  return g\n",
        "\n",
        "def hamilton_monte_carlo(steps, tau, epsilon, sigmav):\n",
        "  x = gaussian(sigma = sigmav)\n",
        "  x_hist = np.array([])\n",
        "  g = gradientE(x)\n",
        "  E = Energy(x)\n",
        "  rejections=0\n",
        "\n",
        "  for l in range(steps):\n",
        "    p = np.random.normal(0, 1, len(x))\n",
        "    H = np.dot(np.transpose(p), p) / 2 + Energy(x)\n",
        "    xnew = x\n",
        "    gnew = g\n",
        "\n",
        "    for s in range(tau):\n",
        "      p = p - epsilon * gnew /2\n",
        "      xnew = xnew + epsilon * p #!!!!!!!!!!!!!! += caused the error DO NOT USE\n",
        "      gnew = gradientE(xnew)\n",
        "      p = p - epsilon * gnew /2\n",
        "    \n",
        "    Enew = Energy(xnew)\n",
        "    Hnew = np.dot(np.transpose(p), p) /2 + Enew\n",
        "    dH = Hnew - H\n",
        "\n",
        "    accept = False\n",
        "    if dH < 0: \n",
        "      accept = True\n",
        "    elif np.random.uniform(0,1) < np.exp(-dH):\n",
        "      accept = True\n",
        "    else:\n",
        "      accept = False\n",
        "    if accept:\n",
        "      g = gnew\n",
        "      x = xnew\n",
        "      E = Enew\n",
        "    else:\n",
        "      rejections+=1\n",
        "\n",
        "    x_hist = np.append(x_hist, x)\n",
        "  # plot_scatter(np.array(np.split(x_hist, steps)))\n",
        "  return rejections, np.array(np.split(x_hist, steps))"
      ],
      "execution_count": null,
      "outputs": []
    },
    {
      "cell_type": "code",
      "metadata": {
        "id": "8rConBoKn7iA",
        "colab": {
          "base_uri": "https://localhost:8080/",
          "height": 282
        },
        "outputId": "2cc6d39b-ec43-4907-c215-1a0625157202"
      },
      "source": [
        "rejections, hist = hamilton_monte_carlo(10000,100,0.01,0.1)\n",
        "print(rejections)\n",
        "# print(hist)"
      ],
      "execution_count": null,
      "outputs": [
        {
          "output_type": "display_data",
          "data": {
            "image/png": "[encoded data removed]",
            "text/plain": [
              "<Figure size 432x288 with 1 Axes>"
            ]
          },
          "metadata": {
            "needs_background": "light"
          }
        },
        {
          "output_type": "stream",
          "name": "stdout",
          "text": [
            "17\n"
          ]
        }
      ]
    },
    {
      "cell_type": "code",
      "metadata": {
        "id": "RgfGY6Ey-H5L"
      },
      "source": [
        "def plot_metropalis_to_img(X, steps, sigma):\n",
        "  x = []\n",
        "  y = []\n",
        "  \n",
        "  for i in X:\n",
        "    x.append(i[0])\n",
        "    y.append(i[1])\n",
        "  plt.figure() \n",
        "  plt.title(\"Metropalis-Hasting steps: {}, sigma: {}\".format(steps, sigma))\n",
        "  plt.scatter(x, y)\n",
        "  plt.savefig('Images/MH/Metropalis_Hasting_steps_{}_sigma_{}.png'.format(steps, sigma))\n",
        "\n",
        "def plot_hamilton_to_img(X, steps, tau, epsilon, sigma):\n",
        "  x = []\n",
        "  y = []\n",
        "\n",
        "  for i in X:\n",
        "    x.append(i[0])\n",
        "    y.append(i[1])\n",
        "  plt.figure() \n",
        "  plt.title(\"Hamilton MC steps: {}, tau: {}, epsilon: {}, sigma: {}\".format(steps, tau, epsilon, sigma))\n",
        "  plt.scatter(x, y)\n",
        "  plt.savefig('Images/MC/Hamilton_MC_steps_{}_tau_{}_epsilon_{}_sigma_{}.png'.format(steps, tau, epsilon, sigma))"
      ],
      "execution_count": null,
      "outputs": []
    },
    {
      "cell_type": "code",
      "metadata": {
        "id": "QrJKXivh4pku"
      },
      "source": [
        "steps = [10000]\n",
        "sigma = [0.1, 0.5, 1]\n",
        "epsilon = [0.01, 0.05, 0.1, 0.5]\n",
        "tau = [10, 50, 100]\n",
        "\n",
        "dictMH = list( {} for i in range(len(steps)* len(sigma)) )\n",
        "MH_counter = 0\n",
        "for step in steps:\n",
        "  for s in sigma:\n",
        "    rejections, hist = metropalis_hasting(step, s)\n",
        "    dictMH[MH_counter][\"rejections\"] = rejections\n",
        "    dictMH[MH_counter][\"step\"] = step\n",
        "    dictMH[MH_counter][\"sigma\"] = s\n",
        "    dictMH[MH_counter][\"hist\"] = hist\n",
        "    dictMH[MH_counter][\"ratio\"] = rejections/step\n",
        "    MH_counter += 1\n",
        "\n",
        "    # plot_metropalis_to_img(hist, step, s)\n",
        "\n",
        "dictHMC = list({} for i in range(len(steps)* len(sigma) * len(epsilon) * len(tau)))\n",
        "HMC_counter = 0\n",
        "for step in steps:\n",
        "  for frogStep in tau:\n",
        "    for e in epsilon:\n",
        "      for s in sigma:\n",
        "        rejections, hist = hamilton_monte_carlo(step, frogStep, e, s)\n",
        "        dictHMC[HMC_counter][\"rejections\"] = rejections\n",
        "        dictHMC[HMC_counter][\"step\"] = step\n",
        "        dictHMC[HMC_counter][\"sigma\"] = s\n",
        "        dictHMC[HMC_counter][\"epsilon\"] = e\n",
        "        dictHMC[HMC_counter][\"tau\"] = frogStep\n",
        "        dictHMC[HMC_counter][\"hist\"] = hist\n",
        "        dictHMC[HMC_counter][\"ratio\"] = rejections/step\n",
        "\n",
        "        HMC_counter += 1\n",
        "        # plot_hamilton_to_img(hist, step, s, e, frogStep)"
      ],
      "execution_count": null,
      "outputs": []
    },
    {
      "cell_type": "code",
      "metadata": {
        "colab": {
          "base_uri": "https://localhost:8080/"
        },
        "id": "1KjVAGikMXlO",
        "outputId": "59897870-f964-4630-a8b5-d66a05646b5b"
      },
      "source": [
        "minMH = min(dictMH, key=lambda x:x['ratio'])\n",
        "print(minMH)\n",
        "\n",
        "minHMC = min(dictHMC, key=lambda x:x['ratio'])\n",
        "print(minHMC)"
      ],
      "execution_count": null,
      "outputs": [
        {
          "output_type": "stream",
          "name": "stdout",
          "text": [
            "{'rejections': 5346, 'step': 10000, 'sigma': 1, 'hist': array([[ 2.66171378,  1.62445195],\n",
            "       [ 2.66171378,  1.62445195],\n",
            "       [ 2.67674605,  1.6515286 ],\n",
            "       ...,\n",
            "       [-0.091938  , -0.11318538],\n",
            "       [-0.091938  , -0.11318538],\n",
            "       [-0.091938  , -0.11318538]]), 'ratio': 0.5346}\n",
            "{'rejections': 14, 'step': 10000, 'sigma': 0.5, 'epsilon': 0.01, 'tau': 100, 'hist': array([[-0.1557597 ,  1.02491597],\n",
            "       [-0.08881517, -1.22707442],\n",
            "       [-1.40028011, -0.39243876],\n",
            "       ...,\n",
            "       [-0.44233322, -0.47218963],\n",
            "       [-2.00487901, -1.99656032],\n",
            "       [-1.41277891, -1.46977381]]), 'ratio': 0.0014}\n"
          ]
        }
      ]
    },
    {
      "cell_type": "code",
      "metadata": {
        "id": "-Zz2HulfX6yH"
      },
      "source": [
        ""
      ],
      "execution_count": null,
      "outputs": []
    }
  ]
}