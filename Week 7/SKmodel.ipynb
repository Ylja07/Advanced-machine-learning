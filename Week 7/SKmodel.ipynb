{
  "nbformat": 4,
  "nbformat_minor": 0,
  "metadata": {
    "colab": {
      "name": "SKmodel.ipynb",
      "provenance": [],
      "collapsed_sections": []
    },
    "kernelspec": {
      "name": "python3",
      "display_name": "Python 3"
    },
    "language_info": {
      "name": "python"
    }
  },
  "cells": [
    {
      "cell_type": "code",
      "execution_count": 33,
      "metadata": {
        "id": "--ZBrDlVzro_"
      },
      "outputs": [],
      "source": [
        "import numpy as np\n",
        "import matplotlib.pyplot as plt\n",
        "import scipy.integrate as integrate\n",
        "from tqdm import tqdm\n",
        "import sys\n",
        "np.set_printoptions(threshold=sys.maxsize)"
      ]
    },
    {
      "cell_type": "markdown",
      "source": [
        "# Exercise 1"
      ],
      "metadata": {
        "id": "SxVJ2hg8295d"
      }
    },
    {
      "cell_type": "code",
      "source": [
        "#Setting variables\n",
        "beta = 1\n",
        "\n",
        "#Integral functions\n",
        "def qIntegral(z,J,J0,q,m):\n",
        "  return np.exp(-z**2/2)/(np.cosh(beta*J*np.sqrt(q)*z + beta*J0*m)**2)\n",
        "\n",
        "def mIntegral(z,J,J0,q,m):\n",
        "  return np.exp(-z**2/2)*np.tanh(beta*J*np.sqrt(q)*z + beta*J0*m)\n",
        "\n",
        "#Function that calculates q and m for given J and J0\n",
        "def calcQM(J,J0):\n",
        "  #Setting starting variables\n",
        "  q = 1\n",
        "  m = 1\n",
        "\n",
        "  #Iterating until q and m are constant\n",
        "  while True:\n",
        "    q_new = 1 - integrate.quad(qIntegral,-np.inf,np.inf,args=(J,J0,q,m))[0]/(np.sqrt(2*np.pi)) #Calculating new q value\n",
        "    m_new = integrate.quad(mIntegral,-np.inf,np.inf,args=(J,J0,q,m))[0]/(np.sqrt(2*np.pi)) #Calculating new m value\n",
        "\n",
        "    #Breaking loop if difference between current and previous iteration is small enough\n",
        "    if np.abs(q_new-q) < 1e-5 and np.abs(m_new-m) < 1e-5:\n",
        "      break\n",
        "\n",
        "    #Updating q and m\n",
        "    q = q_new\n",
        "    m = m_new\n",
        "\n",
        "  return q,m"
      ],
      "metadata": {
        "id": "FLWB1_kozzhn"
      },
      "execution_count": 34,
      "outputs": []
    },
    {
      "cell_type": "code",
      "source": [
        "#Setting variables\n",
        "x = np.arange(0.05,2.05,0.05)\n",
        "y = np.arange(0.05,2.05,0.05)\n",
        "\n",
        "q_vals = np.zeros((len(y),len(x)))\n",
        "m_vals = np.zeros((len(y),len(x)))\n",
        "\n",
        "#Calculating q and m for each value combination of x and y\n",
        "for i in tqdm(range(len(x))):\n",
        "  for j in range(len(y)):\n",
        "    J = 1/y[j]\n",
        "    J0 = x[i]/y[j]\n",
        "\n",
        "    q_vals[j,i],m_vals[j,i] = calcQM(J,J0)\n",
        "\n",
        "#Flipping axis for plot\n",
        "q_vals = np.flip(q_vals,0)\n",
        "m_vals = np.flip(m_vals,0)\n",
        "\n",
        "#Plotting\n",
        "c = plt.imshow(q_vals,extent=(0,2,0,2))\n",
        "plt.colorbar(c)\n",
        "plt.title('q')\n",
        "plt.xlabel('$J_{0}$/J')\n",
        "plt.ylabel('1/J')\n",
        "plt.show()\n",
        "\n",
        "c = plt.imshow(m_vals,extent=(0,2,0,2))\n",
        "plt.colorbar(c)\n",
        "plt.title('m')\n",
        "plt.xlabel('$J_{0}$/J')\n",
        "plt.ylabel('1/J')\n",
        "plt.show()"
      ],
      "metadata": {
        "colab": {
          "base_uri": "https://localhost:8080/",
          "height": 668
        },
        "id": "0JrC_K1G6pxc",
        "outputId": "8598c251-0393-41aa-8a18-f325b385b0fb"
      },
      "execution_count": 35,
      "outputs": [
        {
          "output_type": "stream",
          "name": "stderr",
          "text": [
            "\r  0%|          | 0/40 [00:00<?, ?it/s]/usr/local/lib/python3.7/dist-packages/ipykernel_launcher.py:6: RuntimeWarning: overflow encountered in cosh\n",
            "  \n",
            "/usr/local/lib/python3.7/dist-packages/ipykernel_launcher.py:6: RuntimeWarning: overflow encountered in double_scalars\n",
            "  \n",
            "100%|██████████| 40/40 [03:00<00:00,  4.51s/it]\n"
          ]
        },
        {
          "output_type": "display_data",
          "data": {
            "image/png": "[encoded data removed]",
            "text/plain": [
              "<Figure size 432x288 with 2 Axes>"
            ]
          },
          "metadata": {
            "needs_background": "light"
          }
        },
        {
          "output_type": "display_data",
          "data": {
            "image/png": "[encoded data removed]",
            "text/plain": [
              "<Figure size 432x288 with 2 Axes>"
            ]
          },
          "metadata": {
            "needs_background": "light"
          }
        }
      ]
    },
    {
      "cell_type": "markdown",
      "source": [
        "# Exercise 2"
      ],
      "metadata": {
        "id": "rODqZBXp3KF5"
      }
    },
    {
      "cell_type": "code",
      "source": [
        "#Integral function\n",
        "def hIntegral(z,J,J0,q,m):\n",
        "  return np.exp(-z**2/2)*(np.abs(beta*J*np.sqrt(q)*z + beta*J0*m) + np.log(1 + np.exp(-2*np.abs(beta*J*np.sqrt(q)*z + beta*J0*m))))\n",
        "\n",
        "#Function that calculates H\n",
        "def calcH(J,J0,q,m):\n",
        "  return integrate.quad(hIntegral,-np.inf,np.inf,args=(J,J0,q,m))[0]/(np.sqrt(2*np.pi)) - beta**2/4*J**2*(q-1)**2 - beta*J0*m**2 - beta**2*J**2*q*(1-q)"
      ],
      "metadata": {
        "id": "TOUlq5iQ22bM"
      },
      "execution_count": 36,
      "outputs": []
    },
    {
      "cell_type": "code",
      "source": [
        "#Flipping back\n",
        "q_vals = np.flip(q_vals,0)\n",
        "m_vals = np.flip(m_vals,0)\n",
        "\n",
        "#Defining array\n",
        "h_vals = np.zeros((len(y),len(x)))\n",
        "h_thresh = np.zeros((len(y),len(x)))\n",
        "\n",
        "#Calculating H for each gridpoint\n",
        "for i in tqdm(range(len(x))):\n",
        "  for j in range(len(y)):\n",
        "    J = 1/y[j]\n",
        "    J0 = x[i]/y[j]\n",
        "    q = q_vals[j,i]\n",
        "    m = m_vals[j,i]\n",
        "\n",
        "    h = calcH(J,J0,q,m)\n",
        "\n",
        "    if h > 0:\n",
        "      h_vals[j,i] = h\n",
        "      h_thresh[j,i] = 1\n",
        "    else:\n",
        "      h_vals[j,i] = h\n",
        "      h_thresh[j,i] = 0\n",
        "\n",
        "#Flipping for plot\n",
        "h_vals = np.flip(h_vals,0)\n",
        "h_thresh = np.flip(h_thresh,0)\n",
        "\n",
        "#Plotting\n",
        "c = plt.imshow(h_vals,extent=(0,2,0,2))\n",
        "plt.colorbar(c)\n",
        "plt.title('H')\n",
        "plt.xlabel('$J_{0}$/J')\n",
        "plt.ylabel('1/J')\n",
        "plt.show()\n",
        "\n",
        "c = plt.imshow(h_thresh,extent=(0,2,0,2))\n",
        "plt.colorbar(c)\n",
        "plt.title('H')\n",
        "plt.xlabel('$J_{0}$/J')\n",
        "plt.ylabel('1/J')\n",
        "plt.show()"
      ],
      "metadata": {
        "colab": {
          "base_uri": "https://localhost:8080/",
          "height": 598
        },
        "id": "bRLeBa6j-xpl",
        "outputId": "8ebf57aa-2560-4d93-aa84-c2f054cd6c52"
      },
      "execution_count": 37,
      "outputs": [
        {
          "output_type": "stream",
          "name": "stderr",
          "text": [
            "100%|██████████| 40/40 [00:04<00:00,  8.17it/s]\n"
          ]
        },
        {
          "output_type": "display_data",
          "data": {
            "image/png": "[encoded data removed]",
            "text/plain": [
              "<Figure size 432x288 with 2 Axes>"
            ]
          },
          "metadata": {
            "needs_background": "light"
          }
        },
        {
          "output_type": "display_data",
          "data": {
            "image/png": "[encoded data removed]",
            "text/plain": [
              "<Figure size 432x288 with 2 Axes>"
            ]
          },
          "metadata": {
            "needs_background": "light"
          }
        }
      ]
    }
  ]
}