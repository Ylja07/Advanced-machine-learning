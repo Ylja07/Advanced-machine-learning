{
  "cells": [
    {
      "cell_type": "code",
      "execution_count": null,
      "metadata": {
        "id": "BnbCcOKKhkJW"
      },
      "outputs": [],
      "source": [
        "import numpy as np\n",
        "import scipy.stats as stats\n",
        "import scipy.sparse as sparse\n",
        "import itertools\n",
        "\n",
        "#training patterns\n",
        "P = 100\n",
        "N=5\n",
        "S=np.random.randint(0, 2, size=(P, N))*2-1\n",
        "\n",
        "# def generateInput(beta, n, pz):\n",
        "#     rvs = stats.norm().rvs\n",
        "#     X = sparse.random(n, n, density=pz, data_rvs=rvs)\n",
        "#     upper_X = sparse.triu(X) \n",
        "#     result = upper_X + upper_X.T - sparse.diags(X.diagonal()) - sparse.diags(X.diagonal())\n",
        "#     result = result.toarray()\n",
        "#     result = np.array(result) #Frustrated result\n",
        "#     for i in range(n):\n",
        "#       for j in range(n):\n",
        "#         result[i,j] = beta * ((result[i,j]>0).astype('int') - (result[i,j]<0).astype('int'))\n",
        "#     return result\n",
        "\n",
        "def s_all(n):\n",
        "  return np.array(list(itertools.product([-1, 1], repeat=n)))\n",
        "\n",
        "\n",
        "# compute clamped statistics from the data (P is the amount of patterns in S)\n",
        "def clamped_statistics(P,S):\n",
        "  ress=0\n",
        "  ss=0\n",
        "  onesvec = np.ones(P)\n",
        "  ress=np.dot(onesvec,S)\n",
        "  for u in range(P):\n",
        "    S1=np.array([S[u]])\n",
        "    S2=np.array([S[u]]).T\n",
        "    ss+= np.dot(S2,S1)\n",
        "  ss = ss/P\n",
        "  ress= ress/P\n",
        "  return [ress,ss]\n",
        "\n",
        "\n",
        "\n",
        "#not a function of S\n",
        "def free_statistics(w,th,N,S):\n",
        "  result=0\n",
        "  # p=np.zeros([N^2])\n",
        "  p=np.array([])\n",
        "  s_al =s_all(N)\n",
        "\n",
        "  # compute the probabilities of each state P(s)\n",
        "  for ps in s_al:\n",
        "    subresult=0\n",
        "    ps=np.array(ps)\n",
        "    thetaterm=np.dot(th,ps)\n",
        "    wterm=np.dot(ps,np.dot(w,ps))/2\n",
        "    expterm=np.exp(wterm+thetaterm)\n",
        "    \n",
        "    p=np.append(p,expterm)\n",
        "\n",
        "  #normalize probabilities\n",
        "  p=p/sum(p)\n",
        "  # print(\"printing the number 1\")\n",
        "  # print(sum(p))\n",
        "  # print(p)\n",
        "\n",
        "\n",
        " # compute the <s_i>\n",
        "  ress=0\n",
        "  ress1=np.zeros(N)\n",
        "  iter=0\n",
        "  ress=np.zeros(N)\n",
        "  for ps in s_al: \n",
        "    #compute probability of outcome ps times \n",
        "    ress+=p[iter]*ps\n",
        "    iter +=1\n",
        "  #place result for s_i in vector\n",
        "  ress1=ress\n",
        "\n",
        "  #compute the <s_i Ss_j>\n",
        "  ress2=np.ones([N,N])\n",
        "\n",
        "\n",
        "  # for i in range(N):\n",
        "  #   for j in range(N):\n",
        "  #     iter=0\n",
        "  #     ress=0\n",
        "  #     for ps in s_al:\n",
        "  #       ress+=p[iter]*ps[i]*ps[j]\n",
        "  #       iter +=1\n",
        "  #     #place result for s_i * s_j in matrix\n",
        "  #     ress2[i][j]=ress\n",
        "\n",
        "  #more effient\n",
        "  ress2=np.zeros([N,N])\n",
        "  iter=0\n",
        "  for ps in s_al:\n",
        "    #compute the matrix S : S_{ij}= (s_i*s_j)\n",
        "    ps=np.array([ps])\n",
        "    psmat = np.matmul(ps.T,ps)\n",
        "    #add it to the total weighted by probablity\n",
        "    ress2+=psmat*p[iter]\n",
        "    iter+=1\n",
        "\n",
        "  return [ress1,ress2]\n",
        "\n",
        "A = (clamped_statistics(P,S));\n",
        "\n",
        "theta=np.ones(N)\n",
        "w=np.random.random([N,N])*2-1\n",
        "#tests\n",
        "#theta=np.zeros(N)\n",
        "w=np.ones([N,N])\n",
        "\n",
        "\n",
        "# print(\"free test\")\n",
        "# B = free_statistics(w,theta,N,S)\n",
        "# print(\"clamped\")\n",
        "# print(S)\n",
        "# print(A[0])\n",
        "# print(A[1])\n",
        "# print(B[0])\n",
        "# print(B[1])\n",
        "\n"
      ]
    },
    {
      "cell_type": "code",
      "execution_count": null,
      "metadata": {
        "id": "F3w8hc0EEtsi"
      },
      "outputs": [],
      "source": [
        "def accept(p, p_new):\n",
        "  a = p_new/p\n",
        "  a = min(1,a)\n",
        "\n",
        "  if np.random.binomial(1,a) == 1:\n",
        "    return True\n",
        "  else:\n",
        "    return False\n",
        "\n",
        "def p_dens(x, w, th):\n",
        "  thetaterm=np.dot(th,x)\n",
        "  wterm=np.dot(x,np.dot(w,x))/2\n",
        "  return np.exp(wterm+thetaterm)\n",
        "\n",
        "# for log likelyhood\n",
        "def logp_dens(x, w, th):\n",
        "  thetaterm=np.dot(th,x)\n",
        "  wterm=np.dot(x,np.dot(w,x))/2\n",
        "  return wterm+thetaterm\n",
        "\n",
        "\n",
        "# density normalizing constant\n",
        "def computnormconst(N,w,th):\n",
        "  sum=0\n",
        "  sall=s_all(N)\n",
        "  for s in sall:\n",
        "    sum+=p_dens(s,w,th)\n",
        "\n",
        "  return sum\n",
        "\n",
        "  #\n",
        "def MH_sample(samples, w, th,returnall=False):\n",
        "  s = np.random.randint(0, 2, size=(N))*2-1\n",
        "  #s_hist = np.array([])\n",
        "  samplesaccepted=0;\n",
        "  s_hist = np.ones([samples,N])\n",
        "  while samplesaccepted<samples:\n",
        "    if (samplesaccepted==samples ):\n",
        "      break\n",
        "    \n",
        "    #important !!! make copy\n",
        "    new_s = s.copy()\n",
        "    random_flip = np.random.randint(len(new_s))\n",
        "    new_s[random_flip] = new_s[random_flip]*-1\n",
        "    p_new = p_dens(new_s, w, th)\n",
        "    p = p_dens(s, w, th)\n",
        "\n",
        "    a = accept(p, p_new)\n",
        "\n",
        "    if a:\n",
        "      s = new_s\n",
        "      #s_hist = np.append(s_hist, s)\n",
        "      s_hist[samplesaccepted]=s;\n",
        "      samplesaccepted+=1;\n",
        "    #otherwise produce sample of current configuration\n",
        "    else:\n",
        "      s_hist[samplesaccepted]=s;\n",
        "      samplesaccepted+=1;\n",
        "\n",
        "  #return all samples for testing/plotting\n",
        "  if returnall:\n",
        "    return s_hist, np.mean(s_hist, axis=0) , np.cov(s_hist.T)\n",
        "\n",
        "  #note that the sample means E[x]E[y] shoulb be added to covarance get <x_i,X_j> but the cov matrix seems to work better? TODO\n",
        "  mean2=np.array([np.mean(s_hist , axis=0)])\n",
        "  means2 = np.matmul(mean2.T,mean2)\n",
        "  return (np.mean(s_hist , axis=0), np.cov(s_hist.T))"
      ]
    },
    {
      "cell_type": "code",
      "execution_count": null,
      "metadata": {
        "id": "ykBMYJajZVco"
      },
      "outputs": [],
      "source": [
        "##likelihood for likelyhood plot\n",
        "def likelihood(S,w,th):\n",
        "  res=1\n",
        "  for x in S:\n",
        "    res*=p_dens(x, w, th) \n",
        "  return res\n",
        "\n",
        "\n",
        "def loglikelihood(S,w,th):\n",
        "  res=0\n",
        "  for x in S:\n",
        "    res+=logp_dens(x, w, th) \n",
        "  return res\n",
        "\n",
        "#normalized likelyhood\n",
        "def normlikelihood(S,w,th):\n",
        "  constant=computnormconst(S.shape[1],w,th)\n",
        "  res=1\n",
        "  for x in S:\n",
        "    res*=p_dens(x, w, th)/constant \n",
        "  return res\n",
        "\n",
        "\n",
        "# use normlikelihood instead\n",
        "def loglikelihood(S,w,th):\n",
        "  return normlikelihood(S,w,th)"
      ]
    },
    {
      "cell_type": "code",
      "execution_count": null,
      "metadata": {
        "id": "kKX-ehPRu3-N"
      },
      "outputs": [],
      "source": [
        "def gradientDescent(P,N,S, rate = 0.1,tracklh=False):\n",
        "  w=np.random.random([N,N])\n",
        "  #maybe set diagonal of w to 0\n",
        "  w = w - np.diag(w)\n",
        "  theta=np.ones(N)\n",
        "  maxit=10**5\n",
        "\n",
        "  #TODO note changed for testing\n",
        "  cvcrit=10**-4\n",
        "\n",
        "  #compute clamped statistics\n",
        "  clamped=clamped_statistics(P,S)\n",
        "\n",
        "  #track likelyhoods\n",
        "  lhlist=np.array([])\n",
        "\n",
        "\n",
        "  dw=1000\n",
        "  dtheta=1000\n",
        "  for i in range(maxit):\n",
        "    # print(np.linalg.norm(dw))\n",
        "    # print(np.linalg.norm(dtheta))\n",
        "\n",
        "    if tracklh:\n",
        "      lhlist=np.append(lhlist,loglikelihood(S,w,theta))\n",
        "\n",
        "\n",
        "    if (np.linalg.norm(dw)<cvcrit and np.linalg.norm(dtheta)<cvcrit):\n",
        "      print(\"Converged after: {}\".format(i));\n",
        "      print(np.linalg.norm(dw))\n",
        "      print(np.linalg.norm(dtheta))\n",
        "\n",
        "      return  lhlist ,i,\"padding\",w,theta\n",
        "\n",
        "      # break;\n",
        "    wold=w\n",
        "    thetaold=theta\n",
        "    #break when converged\n",
        "\n",
        "    #compute free statistics\n",
        "    free=free_statistics(w,theta,N,S)\n",
        "\n",
        "    #print(w)\n",
        "    #print(theta)\n",
        "    #print(clamped[1])\n",
        "    #print(free[1])\n",
        "    #print(clamped[0])\n",
        "    #print(free[0])\n",
        "\n",
        "    w=w+rate*(clamped[1]-free[1])\n",
        "    theta=theta+rate*(clamped[0]-free[0])\n",
        "\n",
        "    dw=w-wold \n",
        "    # if i%1000 ==0:\n",
        "    # print(np.linalg.norm(dw))\n",
        "    # print(np.linalg.norm(dtheta))\n",
        "    dtheta=theta-thetaold\n",
        "    #print(np.linalg.norm(dtheta))\n",
        "\n",
        "# print(S)\n",
        "#gradientDescent(P,N,S)"
      ]
    },
    {
      "cell_type": "code",
      "execution_count": null,
      "metadata": {
        "id": "7USmcc3qHG_q"
      },
      "outputs": [],
      "source": [
        "#plots of likelihood\n",
        "#\n",
        "\n"
      ]
    },
    {
      "cell_type": "markdown",
      "metadata": {
        "id": "wRbDTOIR_SCq"
      },
      "source": [
        "#Patterns Test"
      ]
    },
    {
      "cell_type": "code",
      "execution_count": null,
      "metadata": {
        "id": "gS-su-ZS_QMC"
      },
      "outputs": [],
      "source": [
        "# P_range = np.linspace(10.0, 210.0, num=9)\n",
        "# iteration_values = []\n",
        "# for P in P_range:\n",
        "#   N=5\n",
        "#   S=np.random.randint(0, 2, size=(int(P), N))*2-1\n",
        "#   iteration_values.append(gradientDescent(int(P),N,S))\n",
        "  "
      ]
    },
    {
      "cell_type": "code",
      "execution_count": null,
      "metadata": {
        "id": "OHLaRfBrGUZl"
      },
      "outputs": [],
      "source": [
        "import matplotlib.pyplot as plt\n",
        "\n",
        "# plt.plot(P_range, iteration_values)\n",
        "# plt.ylabel('Iterations')\n",
        "# plt.xlabel('Patterns')\n",
        "# plt.show()"
      ]
    },
    {
      "cell_type": "markdown",
      "metadata": {
        "id": "_Y-EkrcuAkxt"
      },
      "source": [
        "#SALAMANDER"
      ]
    },
    {
      "cell_type": "code",
      "execution_count": null,
      "metadata": {
        "id": "Fr02UByqKqJR",
        "colab": {
          "base_uri": "https://localhost:8080/"
        },
        "outputId": "ef40adfd-f76b-40db-f9e0-0d1e5824ee71"
      },
      "outputs": [
        {
          "output_type": "stream",
          "name": "stdout",
          "text": [
            "269699\n",
            "42\n"
          ]
        }
      ],
      "source": [
        "# Salamander_data = np.loadtxt('bint.txt', unpack = True, dtype=int)\n",
        "import pandas as pd\n",
        "import random\n",
        "\n",
        "#pick random sample \n",
        "val = random.randrange(0, (283041-953), 953)\t\n",
        "skiprows = random.randint(0, 80)\t\n",
        "print(val)\n",
        "print(skiprows)\n",
        "\n",
        "data = pd.read_csv('bint.txt', sep=\" \",usecols=range(0,953),  header=None, nrows = 10)\n",
        "\n",
        "#data = pd.read_csv('bint.txt', sep=\" \", usecols=range(val, val+953), header=None, nrows = 10, skiprows = skiprows)"
      ]
    },
    {
      "cell_type": "code",
      "execution_count": null,
      "metadata": {
        "id": "ST38kgecA1WT",
        "colab": {
          "base_uri": "https://localhost:8080/"
        },
        "outputId": "3bcc72e0-2657-45c9-bfdf-27486aadb37b"
      },
      "outputs": [
        {
          "output_type": "stream",
          "name": "stdout",
          "text": [
            "   0    1    2    3    4    5    6    7    8    9    ...  943  944  945  946  \\\n",
            "0    0    0    0    0    0    0    0    0    0    0  ...    0    0    0    0   \n",
            "1    0    0    0    0    0    0    0    0    0    0  ...    0    0    0    0   \n",
            "2    0    0    0    0    0    0    0    0    0    0  ...    0    0    0    0   \n",
            "3    0    0    0    1    0    0    0    1    0    0  ...    0    0    0    0   \n",
            "4    0    0    0    0    0    0    0    0    0    0  ...    0    0    0    0   \n",
            "5    0    0    0    0    0    0    0    0    0    0  ...    0    0    0    0   \n",
            "6    0    0    0    0    0    0    0    0    0    0  ...    0    0    0    0   \n",
            "7    0    0    0    0    0    0    0    0    0    0  ...    0    0    0    0   \n",
            "8    0    0    0    0    0    0    0    0    0    0  ...    0    0    0    0   \n",
            "9    0    0    0    0    0    0    0    0    0    0  ...    0    0    0    0   \n",
            "\n",
            "   947  948  949  950  951  952  \n",
            "0    0    0    0    0    0    0  \n",
            "1    0    0    0    0    0    0  \n",
            "2    0    0    0    0    0    0  \n",
            "3    0    0    0    0    0    0  \n",
            "4    0    0    0    0    0    0  \n",
            "5    0    0    0    0    0    0  \n",
            "6    0    0    0    0    0    0  \n",
            "7    0    0    0    0    0    0  \n",
            "8    0    0    0    0    0    0  \n",
            "9    0    0    0    0    0    0  \n",
            "\n",
            "[10 rows x 953 columns]\n",
            "(10, 953)\n",
            "[[-1 -1 -1 ... -1 -1 -1]\n",
            " [-1 -1 -1 ... -1 -1 -1]\n",
            " [-1 -1 -1 ... -1 -1 -1]\n",
            " ...\n",
            " [-1 -1 -1 ... -1 -1 -1]\n",
            " [-1 -1 -1 ... -1 -1 -1]\n",
            " [-1 -1 -1 ... -1 -1 -1]]\n"
          ]
        }
      ],
      "source": [
        "print(data)\n",
        "data = np.array(data)\n",
        "data = data *2-1\n",
        "print(data.shape)\n",
        "print(data)"
      ]
    },
    {
      "cell_type": "code",
      "execution_count": null,
      "metadata": {
        "id": "tw0WGca1DOc-",
        "colab": {
          "base_uri": "https://localhost:8080/",
          "height": 325
        },
        "outputId": "7ff80fa3-ace6-4320-e26b-dcfdc273b8c8"
      },
      "outputs": [
        {
          "output_type": "error",
          "ename": "KeyboardInterrupt",
          "evalue": "ignored",
          "traceback": [
            "\u001b[0;31m---------------------------------------------------------------------------\u001b[0m",
            "\u001b[0;31mKeyboardInterrupt\u001b[0m                         Traceback (most recent call last)",
            "\u001b[0;32m<ipython-input-72-46ebbcd50fcf>\u001b[0m in \u001b[0;36m<module>\u001b[0;34m()\u001b[0m\n\u001b[0;32m----> 1\u001b[0;31m \u001b[0msol\u001b[0m \u001b[0;34m=\u001b[0m \u001b[0mgradientDescent\u001b[0m\u001b[0;34m(\u001b[0m\u001b[0;36m953\u001b[0m\u001b[0;34m,\u001b[0m\u001b[0;36m10\u001b[0m\u001b[0;34m,\u001b[0m\u001b[0mdata\u001b[0m\u001b[0;34m.\u001b[0m\u001b[0mT\u001b[0m\u001b[0;34m,\u001b[0m \u001b[0;36m0.01\u001b[0m\u001b[0;34m,\u001b[0m \u001b[0mtracklh\u001b[0m \u001b[0;34m=\u001b[0m \u001b[0;32mTrue\u001b[0m\u001b[0;34m)\u001b[0m\u001b[0;34m\u001b[0m\u001b[0;34m\u001b[0m\u001b[0m\n\u001b[0m",
            "\u001b[0;32m<ipython-input-66-3b095b8d1abf>\u001b[0m in \u001b[0;36mgradientDescent\u001b[0;34m(P, N, S, rate, tracklh)\u001b[0m\n\u001b[1;32m     23\u001b[0m \u001b[0;34m\u001b[0m\u001b[0m\n\u001b[1;32m     24\u001b[0m     \u001b[0;32mif\u001b[0m \u001b[0mtracklh\u001b[0m\u001b[0;34m:\u001b[0m\u001b[0;34m\u001b[0m\u001b[0;34m\u001b[0m\u001b[0m\n\u001b[0;32m---> 25\u001b[0;31m       \u001b[0mlhlist\u001b[0m\u001b[0;34m=\u001b[0m\u001b[0mnp\u001b[0m\u001b[0;34m.\u001b[0m\u001b[0mappend\u001b[0m\u001b[0;34m(\u001b[0m\u001b[0mlhlist\u001b[0m\u001b[0;34m,\u001b[0m\u001b[0mloglikelihood\u001b[0m\u001b[0;34m(\u001b[0m\u001b[0mS\u001b[0m\u001b[0;34m,\u001b[0m\u001b[0mw\u001b[0m\u001b[0;34m,\u001b[0m\u001b[0mtheta\u001b[0m\u001b[0;34m)\u001b[0m\u001b[0;34m)\u001b[0m\u001b[0;34m\u001b[0m\u001b[0;34m\u001b[0m\u001b[0m\n\u001b[0m\u001b[1;32m     26\u001b[0m \u001b[0;34m\u001b[0m\u001b[0m\n\u001b[1;32m     27\u001b[0m \u001b[0;34m\u001b[0m\u001b[0m\n",
            "\u001b[0;32m<ipython-input-65-0def7c3d4b56>\u001b[0m in \u001b[0;36mloglikelihood\u001b[0;34m(S, w, th)\u001b[0m\n\u001b[1;32m     24\u001b[0m \u001b[0;31m# use normlikelihood instead\u001b[0m\u001b[0;34m\u001b[0m\u001b[0;34m\u001b[0m\u001b[0;34m\u001b[0m\u001b[0m\n\u001b[1;32m     25\u001b[0m \u001b[0;32mdef\u001b[0m \u001b[0mloglikelihood\u001b[0m\u001b[0;34m(\u001b[0m\u001b[0mS\u001b[0m\u001b[0;34m,\u001b[0m\u001b[0mw\u001b[0m\u001b[0;34m,\u001b[0m\u001b[0mth\u001b[0m\u001b[0;34m)\u001b[0m\u001b[0;34m:\u001b[0m\u001b[0;34m\u001b[0m\u001b[0;34m\u001b[0m\u001b[0m\n\u001b[0;32m---> 26\u001b[0;31m   \u001b[0;32mreturn\u001b[0m \u001b[0mnormlikelihood\u001b[0m\u001b[0;34m(\u001b[0m\u001b[0mS\u001b[0m\u001b[0;34m,\u001b[0m\u001b[0mw\u001b[0m\u001b[0;34m,\u001b[0m\u001b[0mth\u001b[0m\u001b[0;34m)\u001b[0m\u001b[0;34m\u001b[0m\u001b[0;34m\u001b[0m\u001b[0m\n\u001b[0m",
            "\u001b[0;32m<ipython-input-65-0def7c3d4b56>\u001b[0m in \u001b[0;36mnormlikelihood\u001b[0;34m(S, w, th)\u001b[0m\n\u001b[1;32m     18\u001b[0m   \u001b[0mres\u001b[0m\u001b[0;34m=\u001b[0m\u001b[0;36m1\u001b[0m\u001b[0;34m\u001b[0m\u001b[0;34m\u001b[0m\u001b[0m\n\u001b[1;32m     19\u001b[0m   \u001b[0;32mfor\u001b[0m \u001b[0mx\u001b[0m \u001b[0;32min\u001b[0m \u001b[0mS\u001b[0m\u001b[0;34m:\u001b[0m\u001b[0;34m\u001b[0m\u001b[0;34m\u001b[0m\u001b[0m\n\u001b[0;32m---> 20\u001b[0;31m     \u001b[0mres\u001b[0m\u001b[0;34m*=\u001b[0m\u001b[0mp_dens\u001b[0m\u001b[0;34m(\u001b[0m\u001b[0mx\u001b[0m\u001b[0;34m,\u001b[0m \u001b[0mw\u001b[0m\u001b[0;34m,\u001b[0m \u001b[0mth\u001b[0m\u001b[0;34m)\u001b[0m\u001b[0;34m/\u001b[0m\u001b[0mconstant\u001b[0m\u001b[0;34m\u001b[0m\u001b[0;34m\u001b[0m\u001b[0m\n\u001b[0m\u001b[1;32m     21\u001b[0m   \u001b[0;32mreturn\u001b[0m \u001b[0mres\u001b[0m\u001b[0;34m\u001b[0m\u001b[0;34m\u001b[0m\u001b[0m\n\u001b[1;32m     22\u001b[0m \u001b[0;34m\u001b[0m\u001b[0m\n",
            "\u001b[0;32m<ipython-input-64-682c98bd2c47>\u001b[0m in \u001b[0;36mp_dens\u001b[0;34m(x, w, th)\u001b[0m\n\u001b[1;32m     11\u001b[0m   \u001b[0mthetaterm\u001b[0m\u001b[0;34m=\u001b[0m\u001b[0mnp\u001b[0m\u001b[0;34m.\u001b[0m\u001b[0mdot\u001b[0m\u001b[0;34m(\u001b[0m\u001b[0mth\u001b[0m\u001b[0;34m,\u001b[0m\u001b[0mx\u001b[0m\u001b[0;34m)\u001b[0m\u001b[0;34m\u001b[0m\u001b[0;34m\u001b[0m\u001b[0m\n\u001b[1;32m     12\u001b[0m   \u001b[0mwterm\u001b[0m\u001b[0;34m=\u001b[0m\u001b[0mnp\u001b[0m\u001b[0;34m.\u001b[0m\u001b[0mdot\u001b[0m\u001b[0;34m(\u001b[0m\u001b[0mx\u001b[0m\u001b[0;34m,\u001b[0m\u001b[0mnp\u001b[0m\u001b[0;34m.\u001b[0m\u001b[0mdot\u001b[0m\u001b[0;34m(\u001b[0m\u001b[0mw\u001b[0m\u001b[0;34m,\u001b[0m\u001b[0mx\u001b[0m\u001b[0;34m)\u001b[0m\u001b[0;34m)\u001b[0m\u001b[0;34m/\u001b[0m\u001b[0;36m2\u001b[0m\u001b[0;34m\u001b[0m\u001b[0;34m\u001b[0m\u001b[0m\n\u001b[0;32m---> 13\u001b[0;31m   \u001b[0;32mreturn\u001b[0m \u001b[0mnp\u001b[0m\u001b[0;34m.\u001b[0m\u001b[0mexp\u001b[0m\u001b[0;34m(\u001b[0m\u001b[0mwterm\u001b[0m\u001b[0;34m+\u001b[0m\u001b[0mthetaterm\u001b[0m\u001b[0;34m)\u001b[0m\u001b[0;34m\u001b[0m\u001b[0;34m\u001b[0m\u001b[0m\n\u001b[0m\u001b[1;32m     14\u001b[0m \u001b[0;34m\u001b[0m\u001b[0m\n\u001b[1;32m     15\u001b[0m \u001b[0;31m# for log likelyhood\u001b[0m\u001b[0;34m\u001b[0m\u001b[0;34m\u001b[0m\u001b[0;34m\u001b[0m\u001b[0m\n",
            "\u001b[0;31mKeyboardInterrupt\u001b[0m: "
          ]
        }
      ],
      "source": [
        "sol = gradientDescent(953,10,data.T, 0.01, tracklh = True)"
      ]
    },
    {
      "cell_type": "code",
      "execution_count": null,
      "metadata": {
        "id": "073JYF9gI7Qr",
        "colab": {
          "base_uri": "https://localhost:8080/",
          "height": 246
        },
        "outputId": "9f05f55f-fe78-4843-f2f6-10ade3d843af"
      },
      "outputs": [
        {
          "output_type": "error",
          "ename": "NameError",
          "evalue": "ignored",
          "traceback": [
            "\u001b[0;31m---------------------------------------------------------------------------\u001b[0m",
            "\u001b[0;31mNameError\u001b[0m                                 Traceback (most recent call last)",
            "\u001b[0;32m<ipython-input-73-5c60946bfbde>\u001b[0m in \u001b[0;36m<module>\u001b[0;34m()\u001b[0m\n\u001b[1;32m      1\u001b[0m \u001b[0;32mimport\u001b[0m \u001b[0mmatplotlib\u001b[0m\u001b[0;34m.\u001b[0m\u001b[0mpyplot\u001b[0m \u001b[0;32mas\u001b[0m \u001b[0mplt\u001b[0m\u001b[0;34m\u001b[0m\u001b[0;34m\u001b[0m\u001b[0m\n\u001b[0;32m----> 2\u001b[0;31m \u001b[0mprint\u001b[0m\u001b[0;34m(\u001b[0m\u001b[0msol\u001b[0m\u001b[0;34m)\u001b[0m\u001b[0;34m\u001b[0m\u001b[0;34m\u001b[0m\u001b[0m\n\u001b[0m\u001b[1;32m      3\u001b[0m \u001b[0mexactlikely\u001b[0m\u001b[0;34m=\u001b[0m\u001b[0msol\u001b[0m\u001b[0;34m[\u001b[0m\u001b[0;36m1\u001b[0m\u001b[0;34m]\u001b[0m\u001b[0;34m\u001b[0m\u001b[0;34m\u001b[0m\u001b[0m\n\u001b[1;32m      4\u001b[0m \u001b[0;34m\u001b[0m\u001b[0m\n\u001b[1;32m      5\u001b[0m \u001b[0mplt\u001b[0m\u001b[0;34m.\u001b[0m\u001b[0mplot\u001b[0m\u001b[0;34m(\u001b[0m\u001b[0mexactlikely\u001b[0m\u001b[0;34m)\u001b[0m\u001b[0;34m\u001b[0m\u001b[0;34m\u001b[0m\u001b[0m\n",
            "\u001b[0;31mNameError\u001b[0m: name 'sol' is not defined"
          ]
        }
      ],
      "source": [
        "import matplotlib.pyplot as plt\n",
        "print(sol)\n",
        "exactlikely=sol[1]\n",
        "\n",
        "plt.plot(exactlikely)\n",
        "plt.xlabel('Iterations')\n",
        "plt.ylabel('log likelihood')\n",
        "plt.title('Salamander dataset log likelihood over iterations')\n",
        "plt.show()"
      ]
    },
    {
      "cell_type": "markdown",
      "metadata": {
        "id": "la9vGl91I6qX"
      },
      "source": [
        "# Metropalis Hasting"
      ]
    },
    {
      "cell_type": "code",
      "execution_count": null,
      "metadata": {
        "id": "hWtNXGnOzU6S",
        "colab": {
          "base_uri": "https://localhost:8080/"
        },
        "outputId": "7a7a469a-0bc7-4fdb-e445-8cf7ac5cab82"
      },
      "outputs": [
        {
          "output_type": "stream",
          "name": "stdout",
          "text": [
            "[0.842 0.834 0.85  0.922 0.89 ]\n",
            "[0.89883326 0.92862298 0.92346961 0.93871121 0.92933159]\n",
            "[0.94  0.97  0.944 0.994 0.97 ]\n",
            "[0.916 0.922 0.918 0.934 0.924]\n",
            "[0.954 0.894 0.994 0.998 0.988]\n",
            "[0.614 0.644 0.658 0.636 0.598]\n"
          ]
        },
        {
          "output_type": "execute_result",
          "data": {
            "text/plain": [
              "5.724226761192443e+33"
            ]
          },
          "metadata": {},
          "execution_count": 75
        }
      ],
      "source": [
        "#MH plots and tests\n",
        "N=5\n",
        "w=np.random.random([N,N])\n",
        "th=np.random.random(N)\n",
        "res= MH_sample(1000,w,th,True)\n",
        "#res2= MH_sample(100,w,th)\n",
        "#print(res[0])\n",
        "print(res[1])\n",
        "#print(res[2])\n",
        "\n",
        "samples = 1000\n",
        "print(free_statistics(w,th,N,S)[0])\n",
        "print(MH_sample(samples,w,th)[0])\n",
        "print(MH_sample(samples,w,th)[0])\n",
        "print(MH_sample(samples,w,th)[0])\n",
        "print(MH_sample(samples,w,th)[0])\n",
        "\n",
        "likelihood(S,w,th)\n"
      ]
    },
    {
      "cell_type": "code",
      "execution_count": null,
      "metadata": {
        "id": "I76ETKTpMSaQ"
      },
      "outputs": [],
      "source": [
        "# gradient descent using metropolis hasting\n",
        "def gradientDescent_MH(P,N,S, steps,computelh=False,computeexact=False):\n",
        "  w=np.random.random([N,N])\n",
        "  #maybe set diagonal of w to 0\n",
        "  w = w - np.diag(w)\n",
        "  theta=np.ones(N)\n",
        "  brate=0.1 #base rate for variable learn rate\n",
        "  rate=0.1\n",
        "  maxit=10**5\n",
        "\n",
        "  #compute clamped statistics\n",
        "  clamped=clamped_statistics(P,S)\n",
        "\n",
        "\n",
        "  #likelihood plot\n",
        "  likelihoodplot=np.array([])\n",
        "  #gradient error\n",
        "  gerror1=np.array([])\n",
        "  gerror2=np.array([])  \n",
        "\n",
        "  dw=1000\n",
        "  dtheta=1000\n",
        "  for i in range(maxit):\n",
        "    # print(np.linalg.norm(dw))\n",
        "    # print(np.linalg.norm(dtheta))\n",
        "    if (np.linalg.norm(dw)<10**(-5) and np.linalg.norm(dtheta)< 10**(-5)):\n",
        "      print(\"Converged after: {}\".format(i));\n",
        "      print(np.linalg.norm(dw))\n",
        "      print(np.linalg.norm(dtheta))\n",
        "      print(dw)\n",
        "      print(dtheta)\n",
        "\n",
        "      if computelh:\n",
        "        return likelihoodplot,gerror1,gerror2,w,theta\n",
        "      return i\n",
        "\n",
        "      # break;\n",
        "\n",
        "    #compute likelyhood\n",
        "    if computelh:\n",
        "      likelihoodplot=np.append(likelihoodplot,loglikelihood(S,w,theta))\n",
        "\n",
        "    wold=w\n",
        "    thetaold=theta\n",
        "    #break when converged\n",
        "\n",
        "    #compute free statistics\n",
        "    free= MH_sample(steps, w, theta)\n",
        "    #compute exact for comparison\n",
        "    if computeexact:\n",
        "      exact=free_statistics(w,theta,N,S)\n",
        "      gerror1=np.append(gerror1,np.linalg.norm(free[0]-exact[0]))\n",
        "      gerror2=np.append(gerror2,np.linalg.norm(free[1]-exact[1]))\n",
        "    #print(free[0]-clamped[0])\n",
        "    #print(clamped[0])\n",
        "    #print(w)\n",
        "    #print(theta)\n",
        "    #print(clamped[1])\n",
        "    #print(free[1])\n",
        "    #print(clamped[0])\n",
        "    #print(free[0])\n",
        "\n",
        "    w=w+rate*(clamped[1]-free[1])\n",
        "    theta=theta+rate*(clamped[0]-free[0])\n",
        "\n",
        "    dw=w-wold \n",
        "    #print(np.linalg.norm(dw)/rate)\n",
        "    dtheta=theta-thetaold\n",
        "    #print(np.linalg.norm(dtheta)/rate)\n",
        "    #print(rate)\n",
        "\n",
        "    #make rate scale with difference\n",
        "    rate=(np.linalg.norm(dw)/rate+np.linalg.norm(dtheta)/rate)*brate\n",
        "    #make rate decrease with time and exponentially with time (choices are experimental)\n",
        "    brate*=(0.98)\n",
        "    #brate*=(0.9999)**i\n",
        "    #brate*=(0.9999)**(i^2)\n",
        "    #print(rate)\n",
        "\n",
        "# print(S)\n",
        "\n",
        "\n",
        "N=5\n",
        "P=10\n",
        "S=np.random.randint(0, 2, size=(int(P), N))*2-1\n",
        "#gradientDescent_MH(P,N,S, 1000)"
      ]
    },
    {
      "cell_type": "markdown",
      "metadata": {
        "id": "TIKEs4MPdoGZ"
      },
      "source": [
        "Experiments for MH"
      ]
    },
    {
      "cell_type": "code",
      "execution_count": null,
      "metadata": {
        "id": "shXig4C4V8h-",
        "colab": {
          "base_uri": "https://localhost:8080/"
        },
        "outputId": "1b88ec91-6c5c-4e52-bd95-162338a74db6"
      },
      "outputs": [
        {
          "output_type": "stream",
          "name": "stdout",
          "text": [
            "Converged after: 3982\n",
            "9.999831550872281e-05\n",
            "9.89325417088733e-05\n",
            "Converged after: 434\n",
            "9.803007370375363e-06\n",
            "7.119541506434327e-06\n",
            "[[ 2.75814388e-06 -1.70742240e-06 -4.47787942e-06  7.83936727e-07\n",
            "  -2.15890428e-06]\n",
            " [-1.70742240e-06  2.45441970e-06 -8.90650627e-07  1.79361440e-06\n",
            "   8.94755007e-07]\n",
            " [-4.47787942e-06 -8.90650627e-07  3.20141700e-07  9.11172530e-07\n",
            "  -1.51862088e-07]\n",
            " [ 7.83936727e-07  1.79361440e-06  9.11172531e-07  1.97010277e-07\n",
            "   3.98124934e-07]\n",
            " [-2.15890428e-06  8.94755007e-07 -1.51862088e-07  3.98124935e-07\n",
            "   3.76782154e-06]]\n",
            "[-2.43800218e-06  5.28233805e-06 -8.12667392e-07  2.84433587e-06\n",
            " -2.84433587e-06]\n"
          ]
        }
      ],
      "source": [
        "#experiments\n",
        "N=5\n",
        "P=20\n",
        "S=np.random.randint(0, 2, size=(int(P), N))*2-1\n",
        "\n",
        "gdexact=gradientDescent(P,N,S,0.1,True)\n",
        "gdlh=gradientDescent_MH(P,N,S, 100,True,True)"
      ]
    },
    {
      "cell_type": "code",
      "execution_count": null,
      "metadata": {
        "id": "59wZpW0zfcFG"
      },
      "outputs": [],
      "source": [
        "#sampling vs exact solution experiments\n",
        "\n",
        "N=5\n",
        "w=np.random.random([N,N])\n",
        "th=np.random.random(N)\n",
        "#sampling solution\n",
        "A=MH_sample(samples, w, th,returnall=False)\n",
        "#exact solution\n",
        "B=free_statistics(w,th,N,S)\n",
        "result=A[0]\n",
        "mean,cov = np.mean(result , axis=0), np.cov(result.T)\n",
        "mean2=np.array([mean])\n",
        "means2 = np.matmul(mean2.T,mean2)\n",
        "#print(cov+means2)\n",
        "#print(mean)\n",
        "# print(A[0])\n",
        "# print(B[0])\n",
        "# print(A[1])\n",
        "# print(B[1])\n",
        "\n"
      ]
    },
    {
      "cell_type": "code",
      "execution_count": null,
      "metadata": {
        "id": "9Di3sHAzblzR",
        "colab": {
          "base_uri": "https://localhost:8080/",
          "height": 790
        },
        "outputId": "d02f5200-9bfa-48bf-c72d-7089b12827ab"
      },
      "outputs": [
        {
          "output_type": "display_data",
          "data": {
            "text/plain": [
              "<Figure size 432x288 with 1 Axes>"
            ],
            "image/png": "[encoded data removed]"
          },
          "metadata": {
            "needs_background": "light"
          }
        },
        {
          "output_type": "display_data",
          "data": {
            "text/plain": [
              "<Figure size 432x288 with 1 Axes>"
            ],
            "image/png": "[encoded data removed]"
          },
          "metadata": {
            "needs_background": "light"
          }
        },
        {
          "output_type": "execute_result",
          "data": {
            "text/plain": [
              "[<matplotlib.lines.Line2D at 0x7f9a29b580d0>]"
            ]
          },
          "metadata": {},
          "execution_count": 105
        },
        {
          "output_type": "display_data",
          "data": {
            "text/plain": [
              "<Figure size 432x288 with 1 Axes>"
            ],
            "image/png": "[encoded data removed]"
          },
          "metadata": {
            "needs_background": "light"
          }
        }
      ],
      "source": [
        "\n",
        "#likelyhood plots\n",
        "import matplotlib.pyplot as plt\n",
        "exactlikely=gdexact[1]\n",
        "likely=gdlh[0]\n",
        "errors1=gdlh[1]\n",
        "errors2=gdlh[2]\n",
        "gdlhnorm=likely/np.max(likely)\n",
        "\n",
        "#normalized likelyhood\n",
        "plt.plot(likely)\n",
        "\n",
        "plt.plot(exactlikely)\n",
        "plt.show()\n",
        "plt.plot(gdlhnorm)\n",
        "plt.show()\n",
        "plt.plot(errors1)\n",
        "plt.plot(errors2)"
      ]
    },
    {
      "cell_type": "code",
      "execution_count": null,
      "metadata": {
        "id": "9lfX6SVeIIcY"
      },
      "outputs": [],
      "source": [
        "#exact solution from fixed point equations\n",
        "\n",
        "#epsilon for diagonal\n",
        "def directsol(S,epsilon=0.001):\n",
        "\n",
        "\n",
        "\n",
        "\n",
        "  P=S.shape[0]\n",
        "  N=S.shape[1]\n",
        "\n",
        "  clamped=clamped_statistics(P,S)\n",
        "  C=clamped[1]\n",
        "  means=clamped[0]\n",
        "  means=np.array([means])\n",
        "  meansprod = np.matmul(means.T,means)\n",
        "  #subtract the products <s_i><s_j>\n",
        "  C=C-meansprod\n",
        "\n",
        "  #add epsilon\n",
        "  diag=np.diag(np.ones(N))*epsilon\n",
        "  C=C+diag\n",
        "\n",
        "  cinv = np.linalg.inv(C)\n",
        "  #print(cinv)\n",
        "  #print(clamped[0])\n",
        "  deltaterm = np.diag(1/(1-clamped[0]**2))\n",
        "  w = deltaterm-cinv\n",
        "\n",
        "  theta = np.tanh(clamped[0])- w @ clamped[0]\n",
        "  return \"filler\",\"filler\",\"filler\",w,theta\n"
      ]
    },
    {
      "cell_type": "code",
      "source": [
        "#direct sol experiments with epsilon\n",
        "N=5\n",
        "P=90\n",
        "S=np.random.randint(0, 2, size=(int(P), N))*2-1\n",
        "\n",
        "#salamander data test\n",
        "# S=data.T\n",
        "# N=data.shape[0]\n",
        "# P=data.shape[1]\n",
        "\n",
        "\n",
        "\n",
        "def direcsolexp(S):\n",
        "  toplot=np.array([])\n",
        "  epsilons = (np.array(range(100))+1)*0.01\n",
        "  for epsilon in epsilons:\n",
        "    a,b,c,w,th = directsol(S,epsilon)\n",
        "    toplot=np.append(toplot,normlikelihood(S,w,th))\n",
        "\n",
        "  return toplot,epsilons\n",
        "\n",
        "epsilonsols , epsilons =direcsolexp(S)\n",
        "plt.plot(epsilons,epsilonsols)\n",
        "plt.xlabel(\"epsilon\")\n",
        "plt.ylabel(\"likelihood of S\")"
      ],
      "metadata": {
        "colab": {
          "base_uri": "https://localhost:8080/",
          "height": 308
        },
        "id": "stxn_5vFUpcQ",
        "outputId": "61da3b98-1b75-4b2f-a1cc-6e22f2835326"
      },
      "execution_count": null,
      "outputs": [
        {
          "output_type": "execute_result",
          "data": {
            "text/plain": [
              "Text(0, 0.5, 'likelihood of S')"
            ]
          },
          "metadata": {},
          "execution_count": 110
        },
        {
          "output_type": "display_data",
          "data": {
            "text/plain": [
              "<Figure size 432x288 with 1 Axes>"
            ],
            "image/png": "[encoded data removed]"
          },
          "metadata": {
            "needs_background": "light"
          }
        }
      ]
    },
    {
      "cell_type": "code",
      "execution_count": null,
      "metadata": {
        "id": "Ml5UgoCxQJhm",
        "colab": {
          "base_uri": "https://localhost:8080/"
        },
        "outputId": "1c0d3dbe-f291-4cd6-e5f8-f16e70e09899"
      },
      "outputs": [
        {
          "output_type": "execute_result",
          "data": {
            "text/plain": [
              "(array([0.99772053, 0.99568012, 0.99908788, 0.99934723, 0.99463948]),\n",
              " array([[1.00001555, 0.99342787, 0.9968122 , 0.99707195, 0.99240014],\n",
              "        [0.99343903, 1.00001029, 0.99478592, 0.99503348, 0.9903464 ],\n",
              "        [0.99681833, 0.99477778, 1.00000313, 0.99843652, 0.99373783],\n",
              "        [0.99707475, 0.99503519, 0.99843761, 1.00000143, 0.9939907 ],\n",
              "        [0.99239194, 0.99035789, 0.99374696, 0.9939963 , 1.00002526]]))"
            ]
          },
          "metadata": {},
          "execution_count": 82
        }
      ],
      "source": [
        "#MF_approx\n",
        "def mf_approx(w,theta,smoothing=0.5):\n",
        "\n",
        "  #initialize\n",
        "  m=np.random.rand(N)\n",
        "  dm=1\n",
        "\n",
        "  #iterate\n",
        "  for i in range(100000):\n",
        "    temp=np.dot(w,m)\n",
        "    temp2=temp+theta\n",
        "    mprime=np.tanh(temp2)\n",
        "    newm=smoothing*m+(1-smoothing)*mprime\n",
        "    dm=np.max(np.abs(newm-m))\n",
        "    m=newm\n",
        "    if dm<10**(-13):\n",
        "      break;\n",
        "  m_mf=m\n",
        "  return [m_mf,i]\n",
        "\n",
        "#computes <s_i s_j>-<s_i> <s_j>\n",
        "def xiLR(m,w,n):\n",
        "  A=np.ones([n,n])\n",
        "  for i in range(n):\n",
        "    for j in range(n):\n",
        "      if(i==j):\n",
        "        A[i][j]=1/(1-m[i]**2)-w[i][j]\n",
        "      else: #delta fucntion ? maybe something else\n",
        "        A[i][j]=-w[i][j]\n",
        "\n",
        "  Ainv=np.linalg.inv(A)\n",
        "  return Ainv\n",
        "\n",
        "# use this one to replace free_statistics()\n",
        "def mf_approx_statistics(w,theta,smoothing=0.5):\n",
        "  res= mf_approx(w,theta,smoothing=0.5)\n",
        "  #<s_i>\n",
        "  m=res[0]\n",
        "  m2=np.array([m])\n",
        "  #<s_i><s_j>\n",
        "  covm = np.matmul(m2.T,m2)\n",
        "  #<s_i s_j> - <s_i> <s_j>\n",
        "  xi=xiLR(m,w,N)\n",
        "  stat1=m\n",
        "  stat2=xi+covm\n",
        "\n",
        "  return stat1,stat2\n",
        "\n",
        "\n",
        "mf_approx_statistics(w,theta,smoothing=0.5)\n",
        "\n"
      ]
    },
    {
      "cell_type": "code",
      "execution_count": null,
      "metadata": {
        "id": "RGj0t0gvUp77"
      },
      "outputs": [],
      "source": [
        "#gradient descent using MF approximation\n",
        "def gradientDescent_MF(P,N,S,computelh=False,computeexact=False):\n",
        "  w=np.random.random([N,N])\n",
        "  #maybe set diagonal of w to 0\n",
        "  w = w - np.diag(w)\n",
        "  theta=np.ones(N)\n",
        "  brate=0.1 #base rate for variable learn rate\n",
        "  rate=0.1\n",
        "  maxit=10**5\n",
        "\n",
        "  #compute clamped statistics\n",
        "  clamped=clamped_statistics(P,S)\n",
        "\n",
        "\n",
        "  #likelihood plot\n",
        "  likelihoodplot=np.array([])\n",
        "  #gradient error\n",
        "  gerror1=np.array([])\n",
        "  gerror2=np.array([])  \n",
        "\n",
        "  dw=1000\n",
        "  dtheta=1000\n",
        "  for i in range(maxit):\n",
        "    # print(np.linalg.norm(dw))\n",
        "    # print(np.linalg.norm(dtheta))\n",
        "    if (np.linalg.norm(dw)<10**(-5) and np.linalg.norm(dtheta)< 10**(-5)):\n",
        "      print(\"Converged after: {}\".format(i));\n",
        "      print(np.linalg.norm(dw))\n",
        "      print(np.linalg.norm(dtheta))\n",
        "      print(dw)\n",
        "      print(dtheta)\n",
        "\n",
        "      if computelh:\n",
        "        return likelihoodplot,gerror1,gerror2,w,theta\n",
        "      return i\n",
        "\n",
        "      # break;\n",
        "\n",
        "    #compute likelyhood (normalized)\n",
        "    if computelh:\n",
        "      likelihoodplot=np.append(likelihoodplot,normlikelihood(S,w,theta))\n",
        "\n",
        "    wold=w\n",
        "    thetaold=theta\n",
        "    #break when converged\n",
        "\n",
        "    #compute free statistics\n",
        "    free= mf_approx_statistics(w,theta)\n",
        "    #compute exact for comparison\n",
        "    if computeexact:\n",
        "      exact=free_statistics(w,theta,N,S)\n",
        "      gerror1=np.append(gerror1,np.linalg.norm(free[0]-exact[0]))\n",
        "      gerror2=np.append(gerror2,np.linalg.norm(free[1]-exact[1]))\n",
        "    #print(free[0]-clamped[0])\n",
        "    #print(clamped[0])\n",
        "    #print(w)\n",
        "    #print(theta)\n",
        "    #print(clamped[1])\n",
        "    #print(free[1])\n",
        "    #print(clamped[0])\n",
        "    #print(free[0])\n",
        "\n",
        "    w=w+rate*(clamped[1]-free[1])\n",
        "    theta=theta+rate*(clamped[0]-free[0])\n",
        "\n",
        "    dw=w-wold \n",
        "    #print(np.linalg.norm(dw)/rate)\n",
        "    dtheta=theta-thetaold\n",
        "    #print(np.linalg.norm(dtheta)/rate)\n",
        "    #print(rate)\n",
        "\n",
        "    #make rate scale with difference\n",
        "    rate=(np.linalg.norm(dw)/rate+np.linalg.norm(dtheta)/rate)*brate\n",
        "    #make rate decrease with time and exponentially with time (choices are experimental)\n",
        "    brate*=(0.98)\n",
        "    #brate*=(0.9999)**i\n",
        "    #brate*=(0.9999)**(i^2)\n",
        "    #print(rate)\n",
        "\n",
        "# print(S)\n",
        "\n",
        "\n",
        "N=5\n",
        "P=10\n",
        "S=np.random.randint(0, 2, size=(int(P), N))*2-1\n",
        "S=np.random.randint(0, 2, size=(int(P), N))*2-1\n"
      ]
    },
    {
      "cell_type": "code",
      "execution_count": null,
      "metadata": {
        "id": "vmz_OHY6VEGF",
        "colab": {
          "base_uri": "https://localhost:8080/"
        },
        "outputId": "2caddb5b-e4f1-4caa-b18f-c2483c7c9739"
      },
      "outputs": [
        {
          "output_type": "stream",
          "name": "stdout",
          "text": [
            "Converged after: 299\n",
            "9.821362012988645e-06\n",
            "7.394334630113101e-06\n",
            "[[-9.91991642e-07  3.10967235e-06 -2.53550957e-06  8.15205839e-07\n",
            "   2.33754845e-06]\n",
            " [ 2.14855245e-06  3.87462663e-07  9.43576813e-07  9.90029395e-07\n",
            "   1.44047215e-06]\n",
            " [ 4.94674076e-07  3.03225558e-06 -1.65753029e-06  1.15711245e-06\n",
            "   2.21581285e-06]\n",
            " [ 3.66004547e-06  2.77200886e-06 -1.16973858e-07 -2.51572446e-07\n",
            "   2.86946880e-06]\n",
            " [ 2.64097662e-06  2.41666874e-06 -5.90310480e-07  8.74014957e-07\n",
            "   1.66795036e-06]]\n",
            "[-2.49739950e-06 -1.58897705e-06 -4.15851252e-06 -3.90028713e-06\n",
            " -3.66181188e-06]\n"
          ]
        }
      ],
      "source": [
        "#MF approx descent test\n",
        "N=5\n",
        "P=50\n",
        "S=np.random.randint(0, 2, size=(int(P), N))*2-1\n",
        "mfgd = gradientDescent_MF(P,N,S, True)\n"
      ]
    },
    {
      "cell_type": "code",
      "execution_count": null,
      "metadata": {
        "id": "MxPXnhtNWcJq",
        "colab": {
          "base_uri": "https://localhost:8080/",
          "height": 294
        },
        "outputId": "9b6dfb08-bc60-415b-e15a-54a9fcc2f638"
      },
      "outputs": [
        {
          "output_type": "execute_result",
          "data": {
            "text/plain": [
              "[<matplotlib.lines.Line2D at 0x7f9a298068d0>]"
            ]
          },
          "metadata": {},
          "execution_count": 85
        },
        {
          "output_type": "display_data",
          "data": {
            "text/plain": [
              "<Figure size 432x288 with 1 Axes>"
            ],
            "image/png": "[encoded data removed]"
          },
          "metadata": {
            "needs_background": "light"
          }
        }
      ],
      "source": [
        "#likelyhood plot for MF approx\n",
        "import matplotlib.pyplot as plt\n",
        "plt.plot(mfgd[0])"
      ]
    },
    {
      "cell_type": "code",
      "execution_count": null,
      "metadata": {
        "id": "VE95-x5vXAas"
      },
      "outputs": [],
      "source": [
        "\n",
        "#plot of frequences and likelyhood\n",
        "import matplotlib.pyplot as plt\n",
        "from collections import Counter\n",
        "\n",
        "title=\"MF_approx \"\n",
        "\n",
        "\n",
        "# makes plot with title, for dataset S, with results mfgd\n",
        "def plot_likely(title,S,mfgd):\n",
        "  plt.plot(mfgd[0])\n",
        "  plt.xlabel(\"iterations\")\n",
        "  plt.ylabel(\"likelihood\")\n",
        "  plt.title(title + \" likelihood over iterations\")\n",
        "  plt.show()\n",
        "\n",
        "def make_plots(title,S,mfgd):\n",
        "  sall=s_all(S.shape[1])\n",
        "  w=mfgd[3]\n",
        "  th=mfgd[4]\n",
        "\n",
        "\n",
        "  # count occurences\n",
        "  counter = Counter(map(tuple, S))\n",
        "\n",
        "  # pairs of densities and rates\n",
        "  pairs = []\n",
        "\n",
        "  # apply some normalization if needed to prevent exponents becommming to large\n",
        "  meanw=np.mean(w)\n",
        "  meanth=np.mean(th)\n",
        "  if(np.absolute(meanw)>2 or np.absolute(meanth)>2):\n",
        "    w= w/(np.absolute(meanw) + np.absolute(meanth))\n",
        "    th=th/(np.absolute(meanw) + np.absolute(meanth))\n",
        "\n",
        "\n",
        "\n",
        "  for s in sall:\n",
        "    a=p_dens(s,w,th)\n",
        "    b=counter[tuple(s)]\n",
        "    pairs.append(np.array([a,b]))\n",
        "  totals=sum(pairs)\n",
        "  frequencies=[]\n",
        "  for pair in pairs:\n",
        "    a=pair[0]/totals[0]\n",
        "    b=pair[1]/totals[1]\n",
        "\n",
        "\n",
        "    frequencies.append([a,b])\n",
        "\n",
        "  # turn into np array for transpsing\n",
        "  frequencies=np.array(frequencies).T\n",
        "  plt.scatter(frequencies[1],frequencies[0])\n",
        "  plt.ylabel(\"theoretical pattern rate\")\n",
        "  plt.xlabel(\"observed pattern rate\")\n",
        "  plt.title(title+ \" pattern rates\")\n",
        "\n",
        "  #add diagonal\n",
        "  plt.plot([0, 0.1], [0, 0.1])\n",
        "\n",
        "\n",
        "  #set logarithmic scale\n",
        "  #plt.yscale(\"log\")\n",
        "  #plt.xscale(\"log\")\n",
        "  #plt.xlim([10**-4, 10**2])\n",
        "  #plt.ylim([10**-10, 10**2])\n",
        "  plt.show()\n",
        "\n",
        "#make_plots(title,S,resultMF_approx)\n",
        "#make_plots(title,S,resultExact)\n"
      ]
    },
    {
      "cell_type": "markdown",
      "metadata": {
        "id": "TFug55FKpCBA"
      },
      "source": [
        "SALAMANDER DATA SET TESTS"
      ]
    },
    {
      "cell_type": "code",
      "execution_count": null,
      "metadata": {
        "id": "nydR_sBjokCB"
      },
      "outputs": [],
      "source": [
        "#salamander data test\n",
        "S=data.T\n",
        "N=data.shape[0]\n",
        "P=data.shape[1]\n",
        "# direct solution from equation\n",
        "salresultdirect = directsol(S)\n",
        "\n",
        "\n"
      ]
    },
    {
      "cell_type": "code",
      "execution_count": null,
      "metadata": {
        "id": "LJuV7LrNpHGp"
      },
      "outputs": [],
      "source": [
        "# gradient descent using MF approx\n",
        "salresultMF_approx = gradientDescent_MF(P,N,S, True)"
      ]
    },
    {
      "cell_type": "code",
      "execution_count": null,
      "metadata": {
        "id": "q8-0YA_xpEmY"
      },
      "outputs": [],
      "source": [
        "# result from gradient descent using MH sampling\n",
        "salresultsample = gradientDescent_MH(P,N,S, 10**2,computelh=True,computeexact=False)"
      ]
    },
    {
      "cell_type": "code",
      "execution_count": null,
      "metadata": {
        "id": "0QkvruTrpMt3"
      },
      "outputs": [],
      "source": [
        "# result from gradient descent using exact computation of statistics\n",
        "salresultExact=gradientDescent(P,N,S, rate = 0.1,tracklh=True)"
      ]
    },
    {
      "cell_type": "code",
      "execution_count": null,
      "metadata": {
        "id": "GNmD39YiT_fg",
        "colab": {
          "base_uri": "https://localhost:8080/"
        },
        "outputId": "8b6c2ee1-2cb4-4699-d93f-83b15014f4d1"
      },
      "outputs": [
        {
          "output_type": "stream",
          "name": "stdout",
          "text": [
            "Converged after: 322\n",
            "9.85053933604049e-06\n",
            "6.769157264156273e-06\n",
            "[[-8.06880144e-07  3.68456508e-06  2.44091195e-06  2.21624029e-06\n",
            "   3.30911219e-06]\n",
            " [ 5.20854627e-07  6.28273858e-07  1.09832364e-06  1.88273474e-06\n",
            "   1.94853063e-06]\n",
            " [ 2.48541655e-08  3.07093365e-06 -3.24182340e-08  3.16906857e-06\n",
            "   2.56604628e-06]\n",
            " [ 3.70883851e-07  1.79503274e-06  1.25852065e-06  3.08439816e-07\n",
            "   2.04316593e-06]\n",
            " [ 8.12173525e-07  2.54785463e-06  1.52961293e-06  2.20679360e-06\n",
            "   1.46229007e-06]]\n",
            "[-3.78691219e-06 -2.62313804e-06 -2.74616907e-06 -2.34445070e-06\n",
            " -3.40029989e-06]\n",
            "Converged after: 426\n",
            "8.831983568091004e-06\n",
            "5.893437536957503e-06\n",
            "[[ 5.09487467e-07  1.68767723e-06 -3.39658311e-07 -1.32679028e-07\n",
            "   2.21839335e-06]\n",
            " [ 1.68767723e-06 -8.49145778e-08  2.27146496e-06 -1.40639770e-06\n",
            "  -4.27757186e-06]\n",
            " [-3.39658311e-07  2.27146496e-06  2.97201022e-07 -1.14103964e-06\n",
            "   1.74074885e-06]\n",
            " [-1.32679028e-07 -1.40639770e-06 -1.14103964e-06  0.00000000e+00\n",
            "   9.28753195e-07]\n",
            " [ 2.21839335e-06 -4.27757186e-06  1.74074885e-06  9.28753195e-07\n",
            "   7.64231200e-07]]\n",
            "[ 4.34921853e-06  4.96219564e-07 -3.21083247e-07  1.31352238e-06\n",
            "  3.70705204e-06]\n",
            "Converged after: 105\n",
            "9.336398004538772e-05\n",
            "5.042463704974969e-05\n"
          ]
        }
      ],
      "source": [
        "#try all methods for same data\n",
        "\n",
        "\n",
        "#random dataset\n",
        "N=5\n",
        "P=90\n",
        "S=np.random.randint(0, 2, size=(int(P), N))*2-1\n",
        "\n",
        "\n",
        "# direct solution from equation\n",
        "resultdirect = directsol(S)\n",
        "\n",
        "# gradient descent using MF approx\n",
        "resultMF_approx = gradientDescent_MF(P,N,S, True)\n",
        "\n",
        "# result from gradient descent using MH sampling\n",
        "resultsample = gradientDescent_MH(P,N,S, 10**2,computelh=True,computeexact=False)\n",
        "\n",
        "# result from gradient descent using exact computation of statistics\n",
        "resultExact=gradientDescent(P,N,S, rate = 0.1,tracklh=True)\n",
        "\n"
      ]
    },
    {
      "cell_type": "code",
      "execution_count": null,
      "metadata": {
        "id": "Pp78MQXCXKwK",
        "colab": {
          "base_uri": "https://localhost:8080/",
          "height": 1000
        },
        "outputId": "110625f0-5f72-4a67-9e04-4b2018ad7eae"
      },
      "outputs": [
        {
          "output_type": "display_data",
          "data": {
            "text/plain": [
              "<Figure size 432x288 with 1 Axes>"
            ],
            "image/png": "[encoded data removed]"
          },
          "metadata": {
            "needs_background": "light"
          }
        },
        {
          "output_type": "display_data",
          "data": {
            "text/plain": [
              "<Figure size 432x288 with 1 Axes>"
            ],
            "image/png": "[encoded data removed]"
          },
          "metadata": {
            "needs_background": "light"
          }
        },
        {
          "output_type": "display_data",
          "data": {
            "text/plain": [
              "<Figure size 432x288 with 1 Axes>"
            ],
            "image/png": "[encoded data removed]"
          },
          "metadata": {
            "needs_background": "light"
          }
        },
        {
          "output_type": "display_data",
          "data": {
            "text/plain": [
              "<Figure size 432x288 with 1 Axes>"
            ],
            "image/png": "[encoded data removed]"
          },
          "metadata": {
            "needs_background": "light"
          }
        },
        {
          "output_type": "display_data",
          "data": {
            "text/plain": [
              "<Figure size 432x288 with 1 Axes>"
            ],
            "image/png": "[encoded data removed]"
          },
          "metadata": {
            "needs_background": "light"
          }
        },
        {
          "output_type": "display_data",
          "data": {
            "text/plain": [
              "<Figure size 432x288 with 1 Axes>"
            ],
            "image/png": "[encoded data removed]"
          },
          "metadata": {
            "needs_background": "light"
          }
        },
        {
          "output_type": "display_data",
          "data": {
            "text/plain": [
              "<Figure size 432x288 with 1 Axes>"
            ],
            "image/png": "[encoded data removed]"
          },
          "metadata": {
            "needs_background": "light"
          }
        }
      ],
      "source": [
        "#plot the above data\n",
        "make_plots(\"direct solution of equations\",S,resultdirect)\n",
        "\n",
        "make_plots(\"MF approx\",S,resultMF_approx)\n",
        "plot_likely(\"MF approx\",S,resultMF_approx)\n",
        "\n",
        "make_plots(\"MH Sampling\",S,resultsample)\n",
        "plot_likely(\"MH Sampling\",S,resultsample)\n",
        "\n",
        "make_plots(\"exact statistics\",S,resultExact)\n",
        "plot_likely(\"exact statistics\",S,resultExact)\n",
        "\n",
        "\n"
      ]
    },
    {
      "cell_type": "code",
      "execution_count": null,
      "metadata": {
        "id": "hhTbzTr4pTen"
      },
      "outputs": [],
      "source": [
        "#plot the data for the salamander set\n",
        "make_plots(\"direct solution of equations\",S,salresultdirect)\n",
        "\n",
        "make_plots(\"MF approx\",S,salresultMF_approx)\n",
        "plot_likely(\"MF approx\",S,salresultMF_approx)\n",
        "\n",
        "make_plots(\"MH Sampling\",S,salresultsample)\n",
        "plot_likely(\"MH Sampling\",S,salresultsample)\n",
        "\n",
        "\n",
        "#make_plots(\"exact computation of statistics\",S,salresultExact)\n",
        "#plot_likely(\"exact computation of statistics\",S,salresultExact)"
      ]
    },
    {
      "cell_type": "code",
      "execution_count": null,
      "metadata": {
        "id": "KePmhfsGhuf0"
      },
      "outputs": [],
      "source": [
        ""
      ]
    }
  ],
  "metadata": {
    "colab": {
      "collapsed_sections": [],
      "name": "Boltzmann.ipynb",
      "provenance": []
    },
    "kernelspec": {
      "display_name": "Python 3",
      "name": "python3"
    },
    "language_info": {
      "name": "python"
    }
  },
  "nbformat": 4,
  "nbformat_minor": 0
}