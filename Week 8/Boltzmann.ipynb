{
  "nbformat": 4,
  "nbformat_minor": 0,
  "metadata": {
    "colab": {
      "name": "Boltzmann.ipynb",
      "provenance": [],
      "collapsed_sections": []
    },
    "kernelspec": {
      "name": "python3",
      "display_name": "Python 3"
    },
    "language_info": {
      "name": "python"
    }
  },
  "cells": [
    {
      "cell_type": "code",
      "execution_count": 1,
      "metadata": {
        "id": "BnbCcOKKhkJW",
        "colab": {
          "base_uri": "https://localhost:8080/"
        },
        "outputId": "6169384d-9d27-4072-8b16-82be544f8ea9"
      },
      "outputs": [
        {
          "output_type": "stream",
          "name": "stdout",
          "text": [
            "free test\n",
            "clamped\n",
            "[[-1 -1  1 -1 -1]\n",
            " [-1  1  1  1  1]\n",
            " [-1 -1  1 -1  1]\n",
            " [ 1 -1 -1 -1  1]\n",
            " [ 1  1 -1 -1  1]\n",
            " [ 1  1 -1  1  1]\n",
            " [ 1  1  1 -1 -1]\n",
            " [ 1 -1 -1 -1  1]\n",
            " [-1 -1  1  1  1]\n",
            " [ 1  1  1 -1 -1]\n",
            " [-1  1  1 -1  1]\n",
            " [ 1  1 -1  1 -1]\n",
            " [ 1 -1 -1  1 -1]\n",
            " [ 1 -1 -1  1 -1]\n",
            " [-1  1  1  1  1]\n",
            " [ 1  1 -1 -1  1]\n",
            " [ 1  1 -1  1 -1]\n",
            " [-1 -1  1 -1  1]\n",
            " [-1  1 -1 -1 -1]\n",
            " [-1  1 -1  1 -1]\n",
            " [ 1  1 -1  1 -1]\n",
            " [-1 -1  1  1 -1]\n",
            " [ 1 -1  1  1  1]\n",
            " [-1  1 -1  1  1]\n",
            " [ 1  1  1  1  1]\n",
            " [-1 -1  1  1 -1]\n",
            " [-1  1 -1 -1 -1]\n",
            " [-1  1 -1  1 -1]\n",
            " [-1  1 -1  1  1]\n",
            " [-1 -1  1  1  1]\n",
            " [-1 -1 -1  1  1]\n",
            " [ 1  1  1 -1  1]\n",
            " [-1  1  1  1  1]\n",
            " [ 1  1 -1  1 -1]\n",
            " [-1 -1 -1  1 -1]\n",
            " [-1  1 -1 -1 -1]\n",
            " [-1  1 -1  1  1]\n",
            " [-1  1 -1 -1 -1]\n",
            " [ 1 -1 -1 -1 -1]\n",
            " [-1  1 -1  1  1]\n",
            " [ 1 -1 -1 -1 -1]\n",
            " [ 1  1 -1 -1  1]\n",
            " [-1 -1 -1 -1  1]\n",
            " [-1 -1 -1 -1  1]\n",
            " [-1 -1  1  1 -1]\n",
            " [ 1  1  1 -1  1]\n",
            " [-1 -1  1 -1 -1]\n",
            " [ 1 -1  1  1  1]\n",
            " [-1  1  1  1 -1]\n",
            " [-1  1 -1  1 -1]\n",
            " [-1  1 -1  1 -1]\n",
            " [-1 -1 -1 -1  1]\n",
            " [-1 -1  1  1  1]\n",
            " [ 1  1  1  1  1]\n",
            " [-1  1  1 -1 -1]\n",
            " [-1 -1  1  1 -1]\n",
            " [-1 -1 -1  1  1]\n",
            " [ 1  1 -1 -1 -1]\n",
            " [-1  1 -1  1 -1]\n",
            " [-1  1 -1  1  1]\n",
            " [-1  1 -1 -1  1]\n",
            " [ 1 -1 -1  1  1]\n",
            " [-1  1 -1 -1 -1]\n",
            " [ 1 -1  1 -1 -1]\n",
            " [ 1 -1 -1 -1 -1]\n",
            " [ 1 -1  1  1 -1]\n",
            " [-1  1 -1 -1 -1]\n",
            " [-1  1 -1  1 -1]\n",
            " [ 1 -1 -1  1 -1]\n",
            " [-1 -1  1  1 -1]\n",
            " [ 1 -1 -1 -1 -1]\n",
            " [ 1  1  1 -1  1]\n",
            " [ 1 -1  1  1  1]\n",
            " [ 1 -1 -1 -1  1]\n",
            " [ 1  1 -1 -1  1]\n",
            " [-1  1 -1  1 -1]\n",
            " [ 1  1  1 -1  1]\n",
            " [-1 -1  1 -1  1]\n",
            " [-1 -1 -1 -1 -1]\n",
            " [-1  1  1 -1 -1]\n",
            " [-1  1 -1  1 -1]\n",
            " [-1 -1 -1 -1 -1]\n",
            " [-1  1 -1 -1 -1]\n",
            " [-1  1 -1  1  1]\n",
            " [ 1 -1 -1  1  1]\n",
            " [-1 -1 -1 -1  1]\n",
            " [ 1  1  1  1 -1]\n",
            " [ 1  1  1  1  1]\n",
            " [-1 -1  1  1 -1]\n",
            " [-1 -1  1 -1 -1]\n",
            " [ 1 -1  1 -1 -1]\n",
            " [ 1  1 -1 -1  1]\n",
            " [ 1 -1 -1 -1 -1]\n",
            " [-1  1 -1 -1  1]\n",
            " [-1  1  1 -1  1]\n",
            " [-1 -1  1 -1  1]\n",
            " [ 1 -1  1  1 -1]\n",
            " [ 1 -1 -1  1 -1]\n",
            " [ 1  1  1 -1 -1]\n",
            " [ 1 -1 -1 -1  1]]\n",
            "[-0.12  0.06 -0.16  0.   -0.04]\n",
            "[[ 1.   -0.06  0.   -0.08  0.04]\n",
            " [-0.06  1.   -0.14  0.02  0.02]\n",
            " [ 0.   -0.14  1.    0.04  0.08]\n",
            " [-0.08  0.02  0.04  1.   -0.04]\n",
            " [ 0.04  0.02  0.08 -0.04  1.  ]]\n",
            "[0.99981647 0.99981647 0.99981647 0.99981647 0.99981647]\n",
            "[[1.         0.99981647 0.99981647 0.99981647 0.99981647]\n",
            " [0.99981647 1.         0.99981647 0.99981647 0.99981647]\n",
            " [0.99981647 0.99981647 1.         0.99981647 0.99981647]\n",
            " [0.99981647 0.99981647 0.99981647 1.         0.99981647]\n",
            " [0.99981647 0.99981647 0.99981647 0.99981647 1.        ]]\n"
          ]
        }
      ],
      "source": [
        "import numpy as np\n",
        "import scipy.stats as stats\n",
        "import scipy.sparse as sparse\n",
        "import itertools\n",
        "\n",
        "#training patterns\n",
        "P = 100\n",
        "N=5\n",
        "S=np.random.randint(0, 2, size=(P, N))*2-1\n",
        "\n",
        "\n",
        "\n",
        "\n",
        "def generateInput(beta, n, pz):\n",
        "    rvs = stats.norm().rvs\n",
        "    X = sparse.random(n, n, density=pz, data_rvs=rvs)\n",
        "    upper_X = sparse.triu(X) \n",
        "    result = upper_X + upper_X.T - sparse.diags(X.diagonal()) - sparse.diags(X.diagonal())\n",
        "    result = result.toarray()\n",
        "    result = np.array(result) #Frustrated result\n",
        "    for i in range(n):\n",
        "      for j in range(n):\n",
        "        result[i,j] = beta * ((result[i,j]>0).astype('int') - (result[i,j]<0).astype('int'))\n",
        "    return result\n",
        "\n",
        "def s_all(n):\n",
        "  return np.array(list(itertools.product([-1, 1], repeat=n)))\n",
        "\n",
        "\n",
        "# compute clamped statistics from the data (using value of P)\n",
        "def clamped_statistics(P,S):\n",
        "  ress=0\n",
        "  ss=0\n",
        "  onesvec = np.ones(P)\n",
        "  ress=np.dot(onesvec,S)\n",
        "  for u in range(P):\n",
        "    S1=np.array([S[u]])\n",
        "    S2=np.array([S[u]]).T\n",
        "    ss+= np.dot(S2,S1)\n",
        "  ss = ss/P\n",
        "  ress= ress/P\n",
        "  return [ress,ss]\n",
        "\n",
        "\n",
        "\n",
        "#\n",
        "def free_statistics(w,th,N,S):\n",
        "  result=0\n",
        "  # p=np.zeros([N^2])\n",
        "  p=np.array([])\n",
        "  s_al =s_all(N)\n",
        "\n",
        "  # compute the probabilities of each state\n",
        "  for ps in s_al:\n",
        "    subresult=0\n",
        "    ps=np.array(ps)\n",
        "    thetaterm=np.dot(th,ps)\n",
        "    wterm=np.dot(ps,np.dot(w,ps))/2\n",
        "    expterm=np.exp(wterm+thetaterm)\n",
        "    \n",
        "    p=np.append(p,expterm)\n",
        "\n",
        "  #normalize probabilities\n",
        "  p=p/sum(p)\n",
        "\n",
        "\n",
        " # compute the <s_i>\n",
        "  ress=0\n",
        "  ress1=np.ones(N)\n",
        "  \n",
        "  for i in range(N):\n",
        "    iter=0\n",
        "    ress=0\n",
        "    for ps in s_al:\n",
        "      ress+=p[iter]*ps[i]\n",
        "      iter +=1\n",
        "    #place result for s_i in vector\n",
        "    ress1[i]=ress\n",
        "\n",
        "  #compute the <s_i Ss_j>\n",
        "  ress2=np.ones([N,N])\n",
        "  for i in range(N):\n",
        "    for j in range(N):\n",
        "      iter=0\n",
        "      ress=0\n",
        "      for ps in s_al:\n",
        "        ress+=p[iter]*ps[i]*ps[j]\n",
        "        iter +=1\n",
        "      #place result for s_i * s_j in matrix\n",
        "      ress2[i][j]=ress\n",
        "\n",
        "\n",
        "  return [ress1,ress2]\n",
        "\n",
        "A = (clamped_statistics(P,S));\n",
        "\n",
        "theta=np.ones(N)\n",
        "w=np.random.random([N,N])*2-1\n",
        "#tests\n",
        "#theta=np.zeros(N)\n",
        "w=np.ones([N,N])\n",
        "\n",
        "\n",
        "print(\"free test\")\n",
        "B = free_statistics(w,theta,N,S)\n",
        "print(\"clamped\")\n",
        "print(S)\n",
        "print(A[0])\n",
        "print(A[1])\n",
        "print(B[0])\n",
        "print(B[1])\n"
      ]
    },
    {
      "cell_type": "code",
      "source": [
        "def gradientDescent(P,N,S):\n",
        "  w=np.random.random([N,N])\n",
        "  #maybe set diagonal of w to 0\n",
        "  w = w - np.diag(w)\n",
        "  theta=np.ones(N)\n",
        "  rate=0.1\n",
        "  maxit=10**5\n",
        "\n",
        "  #compute clamped statistics\n",
        "  clamped=clamped_statistics(P,S)\n",
        "\n",
        "\n",
        "  dw=1000\n",
        "  dtheta=1000\n",
        "  for i in range(maxit):\n",
        "    # print(np.linalg.norm(dw))\n",
        "    # print(np.linalg.norm(dtheta))\n",
        "    if (np.linalg.norm(dw)<10**(-13) and np.linalg.norm(dtheta)< 10**(-13)):\n",
        "      print(\"Converged after: {}\".format(i));\n",
        "      print(np.linalg.norm(dw))\n",
        "      print(np.linalg.norm(dtheta))\n",
        "\n",
        "      return i\n",
        "\n",
        "      # break;\n",
        "    wold=w\n",
        "    thetaold=theta\n",
        "    #break when converged\n",
        "\n",
        "    #compute free statistics\n",
        "    free=free_statistics(w,theta,N,S)\n",
        "\n",
        "    #print(w)\n",
        "    #print(theta)\n",
        "    #print(clamped[1])\n",
        "    #print(free[1])\n",
        "    #print(clamped[0])\n",
        "    #print(free[0])\n",
        "\n",
        "    w=w+rate*(clamped[1]-free[1])\n",
        "    theta=theta+rate*(clamped[0]-free[0])\n",
        "\n",
        "    dw=w-wold \n",
        "    dtheta=theta-thetaold\n",
        "\n",
        "\n",
        "\n",
        "# print(S)\n",
        "gradientDescent(P,N,S)"
      ],
      "metadata": {
        "id": "kKX-ehPRu3-N",
        "colab": {
          "base_uri": "https://localhost:8080/"
        },
        "outputId": "293c7259-cd1d-467f-cff0-c4596abdd335"
      },
      "execution_count": 9,
      "outputs": [
        {
          "output_type": "stream",
          "name": "stdout",
          "text": [
            "Converged after: 426\n",
            "9.692696075336636e-14\n",
            "3.604715746350513e-14\n"
          ]
        },
        {
          "output_type": "execute_result",
          "data": {
            "text/plain": [
              "426"
            ]
          },
          "metadata": {},
          "execution_count": 9
        }
      ]
    },
    {
      "cell_type": "code",
      "source": [
        "#plots of likelihood\n",
        "#\n",
        "\n"
      ],
      "metadata": {
        "id": "7USmcc3qHG_q",
        "colab": {
          "base_uri": "https://localhost:8080/"
        },
        "outputId": "5b8d72e0-b34d-4db2-e293-d266b636f3e3"
      },
      "execution_count": 24,
      "outputs": [
        {
          "output_type": "stream",
          "name": "stdout",
          "text": [
            "[ 10.  35.  60.  85. 110. 135. 160. 185. 210.]\n"
          ]
        }
      ]
    },
    {
      "cell_type": "markdown",
      "source": [
        "#Patterns Test"
      ],
      "metadata": {
        "id": "wRbDTOIR_SCq"
      }
    },
    {
      "cell_type": "code",
      "source": [
        "P_range = np.linspace(10.0, 210.0, num=9)\n",
        "iteration_values = []\n",
        "for P in P_range:\n",
        "  N=5\n",
        "  S=np.random.randint(0, 2, size=(int(P), N))*2-1\n",
        "  iteration_values.append(gradientDescent(int(P),N,S))\n",
        "  "
      ],
      "metadata": {
        "colab": {
          "base_uri": "https://localhost:8080/"
        },
        "id": "gS-su-ZS_QMC",
        "outputId": "5eeeddf4-c022-4558-8484-965ebb30fb1e"
      },
      "execution_count": 27,
      "outputs": [
        {
          "output_type": "stream",
          "name": "stdout",
          "text": [
            "Converged after: 1106\n",
            "9.923023408446057e-14\n",
            "4.734441888025791e-14\n",
            "Converged after: 519\n",
            "9.921640737165753e-14\n",
            "3.264198036926328e-14\n",
            "Converged after: 425\n",
            "9.803189549035279e-14\n",
            "6.66784278705777e-14\n",
            "Converged after: 375\n",
            "9.47090934084828e-14\n",
            "2.4294079334663783e-14\n",
            "Converged after: 431\n",
            "9.624869842171016e-14\n",
            "4.166818962196452e-14\n",
            "Converged after: 441\n",
            "9.3773078820992e-14\n",
            "4.6113442171273495e-14\n",
            "Converged after: 398\n",
            "9.33547962894418e-14\n",
            "3.3977614192750404e-14\n",
            "Converged after: 372\n",
            "9.800028948969532e-14\n",
            "6.394274587849911e-14\n"
          ]
        }
      ]
    },
    {
      "cell_type": "code",
      "source": [
        "import matplotlib.pyplot as plt\n",
        "\n",
        "plt.plot(P_range, iteration_values)\n",
        "plt.ylabel('Iterations')\n",
        "plt.xlabel('Patterns')\n",
        "plt.show()"
      ],
      "metadata": {
        "id": "OHLaRfBrGUZl",
        "colab": {
          "base_uri": "https://localhost:8080/",
          "height": 279
        },
        "outputId": "fddb7e77-c65c-4415-8286-9b67d10ff603"
      },
      "execution_count": 30,
      "outputs": [
        {
          "output_type": "display_data",
          "data": {
            "text/plain": [
              "<Figure size 432x288 with 1 Axes>"
            ],
            "image/png": "[encoded data removed]"
          },
          "metadata": {
            "needs_background": "light"
          }
        }
      ]
    },
    {
      "cell_type": "code",
      "source": [
        ""
      ],
      "metadata": {
        "id": "Fr02UByqKqJR"
      },
      "execution_count": null,
      "outputs": []
    }
  ]
}