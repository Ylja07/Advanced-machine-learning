{
  "nbformat": 4,
  "nbformat_minor": 0,
  "metadata": {
    "colab": {
      "name": " week 4 Laplace approximation.ipynb",
      "provenance": [],
      "collapsed_sections": [],
      "include_colab_link": true
    },
    "kernelspec": {
      "name": "python3",
      "display_name": "Python 3"
    },
    "language_info": {
      "name": "python"
    }
  },
  "cells": [
    {
      "cell_type": "markdown",
      "metadata": {
        "id": "view-in-github",
        "colab_type": "text"
      },
      "source": [
        "<a href=\"https://colab.research.google.com/github/Ylja07/Advanced-machine-learning/blob/main/week_4_Laplace_approximation.ipynb\" target=\"_parent\"><img src=\"https://colab.research.google.com/assets/colab-badge.svg\" alt=\"Open In Colab\"/></a>"
      ]
    },
    {
      "cell_type": "code",
      "execution_count": 4,
      "metadata": {
        "id": "Al1TMMd8ef01"
      },
      "outputs": [],
      "source": [
        "import numpy as np\n",
        "import random\n",
        "import matplotlib.pyplot as plt\n",
        "from numpy import random"
      ]
    },
    {
      "cell_type": "code",
      "source": [
        "\n",
        "#reused code for reading data\n",
        "\n",
        "#for pereptron learning\n",
        "#sigmoid function\n",
        "\n",
        "\n",
        "alpha = 0.01\n",
        "xin = []\n",
        "with open('x.ext') as my_file:\n",
        "    for line in my_file:\n",
        "        xin.append(line.split())\n",
        "del xin[-2:]\n",
        "# xin.pop()\n",
        "# xin.pop()\n",
        "print(xin)\n",
        "xin = np.array(xin)\n",
        "print(xin)\n",
        "\n",
        "\n",
        "tin = []\n",
        "with open('t.ext') as my_file:\n",
        "    for line in my_file:\n",
        "      tin.append((line.split()))\n",
        "          \n",
        "\n",
        "    \n",
        "\n",
        "del tin[-1:]\n",
        "\n",
        "print(tin)\n",
        "tin = np.array(tin)\n",
        "tin=tin.astype(float)\n",
        "xin=xin.astype(float)\n",
        "\n",
        "print(np.dot(xin.T,tin))\n",
        "\n",
        "\n",
        "#p_densPerceptron\n",
        "def p_dens(w,y):\n",
        "  E = objectivePerceptron(w,y)\n",
        "  return np.exp(-E)\n",
        "\n",
        "\n",
        "def ylearnget(w):\n",
        "   a=np.dot(xin,w)\n",
        "   return sigmoid(a)\n",
        "\n",
        "# gradient and objective for perceptron learning (note )\n",
        "def gradientPerceptron(w,y):\n",
        "  a=np.dot(xin,w) # w is the input , x is from x.ext (we compute the probability of the parameters w)\n",
        "  y=sigmoid(a) #sigmoid function (outpuds)\n",
        "  e=tin-y # error between given output patterns t (t.ext) and y\n",
        "  g=-x.T*e #gradient\n",
        "  gM = alpha*w+g  #learning rule w+= alpha (learning rate) * gradient\n",
        "  return gM\n",
        "\n",
        "\n",
        "def objectivePerceptron(w,y): #objective function\n",
        "  G= - (tin.T * np.log(y)+(1-tin.T)*np.log(1-y)) #y was computed in gradientPerceptron , t from t.ext\n",
        "  EW= np.dot(w.T,w) / 2 #total of w^2\n",
        "  M= G + alpha * EW  #value of objective funcition (measure of error)\n",
        "  return M\n",
        "\n",
        "\n"
      ],
      "metadata": {
        "id": "qvV9bvtyfS21",
        "colab": {
          "base_uri": "https://localhost:8080/"
        },
        "outputId": "47f7f7ee-9580-4236-d98c-8f16e1608336"
      },
      "execution_count": 5,
      "outputs": [
        {
          "output_type": "stream",
          "name": "stdout",
          "text": [
            "[['1', '2', '3'], ['1', '3', '2'], ['1', '3', '6'], ['1', '5.5', '4.5'], ['1', '5', '3'], ['1', '7', '4'], ['1', '5', '6'], ['1', '8', '6'], ['1', '9.5', '5'], ['1', '9', '7']]\n",
            "[['1' '2' '3']\n",
            " ['1' '3' '2']\n",
            " ['1' '3' '6']\n",
            " ['1' '5.5' '4.5']\n",
            " ['1' '5' '3']\n",
            " ['1' '7' '4']\n",
            " ['1' '5' '6']\n",
            " ['1' '8' '6']\n",
            " ['1' '9.5' '5']\n",
            " ['1' '9' '7']]\n",
            "[['0'], ['0'], ['0'], ['0'], ['0'], ['1'], ['1'], ['1'], ['1'], ['1']]\n",
            "[[ 5. ]\n",
            " [38.5]\n",
            " [28. ]]\n"
          ]
        }
      ]
    },
    {
      "cell_type": "code",
      "source": [
        "#find perceptron solution\n",
        "#ax1 + by1 + c >0 , ax2+by2 +c <=0\n",
        "\n",
        "rate=0.1\n",
        "\n",
        "\n",
        "w=np.array([0,0])\n",
        "w2=np.append(w,0)\n",
        "tlabels=tin.T[0]\n",
        "\n",
        "\n",
        "\n",
        "\n",
        "for i in range(5000):\n",
        "  haddiff=False #check if there is still a incorrect weight \n",
        "\n",
        "  # for all data points\n",
        "  for j in range(tlabels.size):\n",
        "  \n",
        "\n",
        "    # compute the difference from the desired output and current output\n",
        "    out2= xin[j] @ w2\n",
        "    out3=(out2 > 0).astype(int)\n",
        "    diff=tlabels[j]-out3\n",
        "    if(diff != 0):\n",
        "      haddiff=True\n",
        "\n",
        "\n",
        "    # update the weights realtive to the \"error\" they cause\n",
        "    deltaw = diff * xin[j]\n",
        "    neww2=w2+deltaw*rate\n",
        "    w2=neww2\n",
        "  if(not haddiff):\n",
        "    break\n",
        "\n",
        "\n",
        "print(neww2)\n",
        "\n",
        "\n",
        "\n"
      ],
      "metadata": {
        "colab": {
          "base_uri": "https://localhost:8080/"
        },
        "id": "wG3Cuwqo434T",
        "outputId": "24ce94b8-bb39-45c2-f34d-c166e5f88dd3"
      },
      "execution_count": 6,
      "outputs": [
        {
          "output_type": "stream",
          "name": "stdout",
          "text": [
            "[-15.8    2.15   0.85]\n"
          ]
        }
      ]
    },
    {
      "cell_type": "code",
      "source": [
        "#organize and plot data \n",
        "print(xin.shape)\n",
        "\n",
        "#separate the 2 coordinates\n",
        "xcor=np.delete(xin,0,1)\n",
        "xcor1=np.delete(xcor,0,1)\n",
        "xcor2=np.delete(xcor,1,1)\n",
        "\n",
        "\n",
        "#seperate the lists based on labels\n",
        "X1L1=[]\n",
        "X2L1=[]\n",
        "X1L2=[]\n",
        "X2L2=[]\n",
        "\n",
        "i=-1\n",
        "for t in tin:\n",
        "  i+=1\n",
        "  t=t[0]\n",
        "  if t:\n",
        "    X1L1.append(xcor1[i])\n",
        "    X2L1.append(xcor2[i])\n",
        "  else:\n",
        "    X1L2.append(xcor1[i])\n",
        "    X2L2.append(xcor2[i])\n",
        "\n",
        "\n",
        "\n",
        "#plt.scatter(xcor1,xcor2)\n",
        "plt.scatter(X1L1,X2L1)\n",
        "plt.scatter(X1L2,X2L2)\n",
        "\n",
        "x = w\n",
        "y = np.linspace(-1, 1, 300)\n",
        "\n",
        "# plt.plot(y,laplaceApprox(y))\n"
      ],
      "metadata": {
        "id": "_lmx9RSa_HkO",
        "colab": {
          "base_uri": "https://localhost:8080/",
          "height": 283
        },
        "outputId": "87ca2ac0-53f2-4323-ade4-47dcc2b1f2ff"
      },
      "execution_count": 7,
      "outputs": [
        {
          "output_type": "stream",
          "name": "stdout",
          "text": [
            "(10, 3)\n"
          ]
        },
        {
          "output_type": "display_data",
          "data": {
            "image/png": "[encoded data removed]",
            "text/plain": [
              "<Figure size 432x288 with 1 Axes>"
            ]
          },
          "metadata": {
            "needs_background": "light"
          }
        }
      ]
    },
    {
      "cell_type": "code",
      "source": [
        "#the graph to reproduce:\n",
        "# the second graph represents 2 labels (stars and squares, and the locations are the coordinates x_i (vector of lenght 2) corresponding to label t_i \n",
        "# the line is the linear seperation line, the dotted lines represent the distribution of the solution i.e. p(t=1)\n",
        "\n",
        "\n",
        "#return sigmoid\n",
        "def sigmoid(x):\n",
        "  return 1/(1+np.exp(-x))\n",
        "\n",
        "\n",
        "#a* (denoted a in code) and s2 are the expectation and variance of a=(w*x) (w is gaussian, x is the new datapoint)\n",
        "\n",
        "#we compute a,s2 from the data x combined with the posterior over y,  a=w* x , s2 = x.t V(w) x\n",
        "\n",
        "# P(t =1 | x, D, a)\n",
        "def laplaceApprox(a,s2=0):\n",
        "  k=1/((1+np.pi*(s2)/8)**0.5)\n",
        "  return sigmoid(k*a)\n",
        "\n",
        "\n",
        "#test w (estimated soltuion for w)\n",
        "w=np.array([1,1])\n",
        "wconst=-10.5 #the first element of the weight (a constant)\n",
        "\n",
        "\n",
        "#w obtained from algorithm below!\n",
        "w=np.array([neww2[1],neww2[2]])\n",
        "wconst=neww2[0]\n",
        "\n",
        "\n",
        "\n",
        "\n",
        "\n",
        "\n",
        "\n",
        "\n",
        "\n",
        "#calculation of H to get V=H^-1\n",
        "#(note using the data x here, for xVx we will use the NEW data point x)\n",
        "\n",
        "print(w)\n",
        "print(xcor)\n",
        "h=np.dot(w,xcor.T)+wconst #!!!adding the constant \n",
        "print(h)\n",
        "\n",
        "sigmoids=sigmoid(h)*sigmoid(-h)\n",
        "xcross=np.dot(xcor.T,xcor)\n",
        "\n",
        "xcort=xcor.T\n",
        "\n",
        "xcor4=np.expand_dims(xcor, axis=1)\n",
        "xcor3=np.expand_dims(xcor, axis=2)\n",
        "\n",
        "\n",
        "xcrs=np.dot(xcor3,xcor4)\n",
        "\n",
        "\n",
        "#need to take diagonal\n",
        "xterms=np.diagonal(xcrs,axis1=0,axis2=2)\n",
        "\n",
        "#transpose to put the u dimension in front\n",
        "xterms=xterms.T\n",
        "\n",
        "sigmoids=np.expand_dims(sigmoids,axis=1)\n",
        "sigmoids=np.expand_dims(sigmoids,axis=1)\n",
        "sigxterm=np.multiply(xterms,sigmoids)\n",
        "\n",
        "\n",
        "#here is where there should also be a +alpha*deltafunction\n",
        "hessian=sum(sigxterm)\n",
        "print(hessian)\n",
        "\n",
        "H=hessian\n",
        "\n",
        "\n",
        "#using this hessian we can compute a,s2 from x and w*\n",
        "def geta(w,x):\n",
        "  return np.dot(w,x)+wconst#!!!adding the constant\n",
        "\n",
        "  #H is the hessian computed from w* and the data\n",
        "def gets2(H,x):\n",
        "  return np.dot(x,np.dot(np.linalg.inv(H),x))\n",
        "\n",
        "def newpointapprox(x):\n",
        "  a=geta(w,x)\n",
        "  s2=gets2(H,x)\n",
        "  return laplaceApprox(a,s2)\n",
        "\n",
        "\n",
        "\n",
        "\n",
        "#plotting the approximation\n",
        "gridcount=100\n",
        "gridscale=10\n",
        "xrange=np.array(range(gridcount))*(gridscale/gridcount)\n",
        "yrange=np.array(range(gridcount))*(gridscale/gridcount)\n",
        "\n",
        "\n",
        "\n",
        "pvalues=[]\n",
        "for xv in xrange:\n",
        "  xvals=[]\n",
        "  for yv in yrange:\n",
        "    xvals.append(newpointapprox([xv,yv]))\n",
        "  pvalues.append(xvals)\n",
        "\n",
        "# x = np.linspace(0, 1, 5)\n",
        "\n",
        "# y = np.linspace(0, 1, 5)\n",
        "\n",
        "# xv, yv = np.meshgrid(x, y)\n",
        "\n",
        "plt.contour(xrange,yrange,pvalues)\n",
        "\n",
        "plt.scatter(X1L1,X2L1)\n",
        "plt.scatter(X1L2,X2L2)\n"
      ],
      "metadata": {
        "id": "K18juaR9fy8X",
        "colab": {
          "base_uri": "https://localhost:8080/",
          "height": 541
        },
        "outputId": "62d786e4-6d98-4441-bc99-7ad95be54536"
      },
      "execution_count": 9,
      "outputs": [
        {
          "output_type": "stream",
          "name": "stdout",
          "text": [
            "[2.15 0.85]\n",
            "[[2.  3. ]\n",
            " [3.  2. ]\n",
            " [3.  6. ]\n",
            " [5.5 4.5]\n",
            " [5.  3. ]\n",
            " [7.  4. ]\n",
            " [5.  6. ]\n",
            " [8.  6. ]\n",
            " [9.5 5. ]\n",
            " [9.  7. ]]\n",
            "[-8.95  -7.65  -4.25  -0.15  -2.5    2.65   0.05   6.5    8.875  9.5  ]\n",
            "[[18.7830992  16.76198157]\n",
            " [16.76198157 16.20895571]]\n"
          ]
        },
        {
          "output_type": "execute_result",
          "data": {
            "text/plain": [
              "<matplotlib.collections.PathCollection at 0x7ff4873b33d0>"
            ]
          },
          "metadata": {},
          "execution_count": 9
        },
        {
          "output_type": "display_data",
          "data": {
            "image/png": "[encoded data removed]",
            "text/plain": [
              "<Figure size 432x288 with 1 Axes>"
            ]
          },
          "metadata": {
            "needs_background": "light"
          }
        }
      ]
    }
  ]
}